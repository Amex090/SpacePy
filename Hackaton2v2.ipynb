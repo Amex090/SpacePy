{
 "cells": [
  {
   "cell_type": "code",
   "execution_count": 37,
   "id": "cc8e8d5a-2c64-4a9b-a316-830cd9bdea59",
   "metadata": {},
   "outputs": [],
   "source": [
    "import pandas as pd\n",
    "import numpy as np\n",
    "from sklearn.model_selection import train_test_split\n",
    "from sklearn.model_selection import ShuffleSplit\n",
    "from sklearn.model_selection import cross_validate\n",
    "from sklearn.preprocessing import MinMaxScaler\n",
    "from sklearn import svm\n",
    "from sklearn.model_selection import cross_val_score\n",
    "from sklearn.linear_model import LogisticRegression\n",
    "from sklearn.metrics import classification_report\n",
    "from sklearn.model_selection import StratifiedKFold\n",
    "from sklearn.metrics import f1_score as f1\n",
    "from sklearn.metrics import accuracy_score as acc\n",
    "from sklearn.metrics import roc_auc_score\n",
    "from sklearn.model_selection import GridSearchCV\n",
    "from sklearn.ensemble import RandomForestClassifier\n",
    "import pickle"
   ]
  },
  {
   "cell_type": "code",
   "execution_count": 2,
   "id": "854676d2-20b1-4a9f-9b65-6cabde91d151",
   "metadata": {},
   "outputs": [],
   "source": [
    "df = pd.read_csv('data/data.csv',sep=';', low_memory=False)"
   ]
  },
  {
   "cell_type": "code",
   "execution_count": 3,
   "id": "cd235fef-5118-4f99-9bac-2656f1cd4c1c",
   "metadata": {},
   "outputs": [],
   "source": [
    "#удаляем лишние пробелы из названия колонок\n",
    "\n",
    "df.columns = df.columns.str.replace(' ', '')"
   ]
  },
  {
   "cell_type": "markdown",
   "id": "638c8e99-621f-472e-8454-5e57896cda6a",
   "metadata": {
    "tags": []
   },
   "source": [
    "ОПРЕДЕЛЯЕМ ОСНОВНЫЕ ДАТЧИКИ, КОТОРЫЕ ПОДВЕРГАЮТСЯ АТАКАМ"
   ]
  },
  {
   "cell_type": "code",
   "execution_count": 4,
   "id": "7bf6423a-b955-4fae-be79-37e088f8b02e",
   "metadata": {},
   "outputs": [],
   "source": [
    "#Чтение файла\n",
    "\n",
    "df2 = pd.read_excel('data/List_of_attacks_Final.xlsx')\n",
    "df2 = df2.drop(df2[df2['Attack Point'].isna() == True].index)"
   ]
  },
  {
   "cell_type": "code",
   "execution_count": 5,
   "id": "45582043-9bb9-482a-a8a5-838138afa175",
   "metadata": {},
   "outputs": [],
   "source": [
    "#Удаляем строки No Physical Impact Attack\n",
    "\n",
    "df2 = df2.drop(df2[df2['Attack Point'] == 'No Physical Impact Attack'].index)"
   ]
  },
  {
   "cell_type": "code",
   "execution_count": 6,
   "id": "8db8409c-d9e3-42a1-b2a4-9c47321529fb",
   "metadata": {},
   "outputs": [
    {
     "name": "stdout",
     "output_type": "stream",
     "text": [
      "количество датчиков, которые подвергаются атакам 28\n",
      "\n",
      "Список датчиков\n",
      "['MV-101' 'P-102' 'LIT-101' 'MV-504' 'AIT-202' 'LIT-301' 'DPIT-301'\n",
      " 'FIT-401' 'MV-304' 'Mv-303' 'MV-303' 'AIT-504' 'MV-101, LIT-101'\n",
      " 'UV-401, AIT-502, P-501' 'P-602, DIT-301, MV-302' 'P-203, P-205'\n",
      " 'LIT-401, P-401' 'P-101, LIT-301' 'P-302, LIT-401' 'P-302'\n",
      " 'P-201, P-203, P-205' 'LIT-101, P-101, MV-201' 'LIT-401' 'P-101'\n",
      " 'P-101; P-102' 'P-501, FIT-502' 'AIT-402, AIT-502' 'FIT-401, AIT-502']\n"
     ]
    }
   ],
   "source": [
    "#Получаем список уникальных значений из колонки Attack Point\n",
    "\n",
    "print(\"количество датчиков, которые подвергаются атакам\", len(df2['Attack Point'].unique()))\n",
    "print()\n",
    "print(\"Список датчиков\")\n",
    "print(df2['Attack Point'].unique())"
   ]
  },
  {
   "cell_type": "code",
   "execution_count": 7,
   "id": "e5a3b6a8-5f1b-4c40-af3c-9489b02fdc14",
   "metadata": {},
   "outputs": [],
   "source": [
    "#Сплитим значения по пробелу и добавляем в новый чистый список\n",
    "\n",
    "features = []\n",
    "\n",
    "for col in df2['Attack Point'].unique():\n",
    "    features += col.split(', ')\n",
    "\n",
    "#уберем символ \"-\" из названия фичей и сделаем все буквы заглавными\n",
    "\n",
    "for i in range(len(features)):\n",
    "    features[i] = features[i].replace('-', \"\")\n",
    "    features[i] = features[i].upper()\n",
    "    \n",
    "features = list(set(features))"
   ]
  },
  {
   "cell_type": "code",
   "execution_count": 8,
   "id": "dbacd317-4d15-4e7a-808d-9492f86868fe",
   "metadata": {},
   "outputs": [],
   "source": [
    "#удалим фичи которых нет в тренировочном наборе данных\n",
    "\n",
    "for i in features:\n",
    "    if i not in df.columns:\n",
    "        features.remove(i)"
   ]
  },
  {
   "cell_type": "code",
   "execution_count": 9,
   "id": "0a3752b1-175b-4723-adeb-94c81aa21e5c",
   "metadata": {},
   "outputs": [],
   "source": [
    "#создадим новый датафрейм в котором будут только фичи из списка features\n",
    "\n",
    "df_new = pd.DataFrame()\n",
    "\n",
    "for colname in features:\n",
    "    df_new[colname] = df[colname].copy()"
   ]
  },
  {
   "cell_type": "code",
   "execution_count": 10,
   "id": "fb5bd731-9606-43eb-b30a-de9b036168a8",
   "metadata": {
    "tags": []
   },
   "outputs": [
    {
     "data": {
      "text/html": [
       "<div>\n",
       "<style scoped>\n",
       "    .dataframe tbody tr th:only-of-type {\n",
       "        vertical-align: middle;\n",
       "    }\n",
       "\n",
       "    .dataframe tbody tr th {\n",
       "        vertical-align: top;\n",
       "    }\n",
       "\n",
       "    .dataframe thead th {\n",
       "        text-align: right;\n",
       "    }\n",
       "</style>\n",
       "<table border=\"1\" class=\"dataframe\">\n",
       "  <thead>\n",
       "    <tr style=\"text-align: right;\">\n",
       "      <th></th>\n",
       "      <th>AIT502</th>\n",
       "      <th>P205</th>\n",
       "      <th>P101</th>\n",
       "      <th>AIT504</th>\n",
       "      <th>AIT202</th>\n",
       "      <th>P201</th>\n",
       "      <th>AIT402</th>\n",
       "      <th>UV401</th>\n",
       "      <th>P501</th>\n",
       "      <th>MV303</th>\n",
       "      <th>...</th>\n",
       "      <th>MV304</th>\n",
       "      <th>P401</th>\n",
       "      <th>MV101</th>\n",
       "      <th>P102</th>\n",
       "      <th>MV201</th>\n",
       "      <th>FIT401</th>\n",
       "      <th>LIT101</th>\n",
       "      <th>P302</th>\n",
       "      <th>LIT301</th>\n",
       "      <th>Normal/Attack</th>\n",
       "    </tr>\n",
       "  </thead>\n",
       "  <tbody>\n",
       "    <tr>\n",
       "      <th>0</th>\n",
       "      <td>145,1166</td>\n",
       "      <td>2</td>\n",
       "      <td>2</td>\n",
       "      <td>12,03538</td>\n",
       "      <td>8,396437</td>\n",
       "      <td>1</td>\n",
       "      <td>156,0882</td>\n",
       "      <td>2</td>\n",
       "      <td>2</td>\n",
       "      <td>1</td>\n",
       "      <td>...</td>\n",
       "      <td>1</td>\n",
       "      <td>1</td>\n",
       "      <td>2</td>\n",
       "      <td>1</td>\n",
       "      <td>2</td>\n",
       "      <td>1,713517</td>\n",
       "      <td>522,8467</td>\n",
       "      <td>2</td>\n",
       "      <td>956,1651</td>\n",
       "      <td>Normal</td>\n",
       "    </tr>\n",
       "    <tr>\n",
       "      <th>1</th>\n",
       "      <td>145,1166</td>\n",
       "      <td>2</td>\n",
       "      <td>2</td>\n",
       "      <td>12,03538</td>\n",
       "      <td>8,396437</td>\n",
       "      <td>1</td>\n",
       "      <td>156,0882</td>\n",
       "      <td>2</td>\n",
       "      <td>2</td>\n",
       "      <td>1</td>\n",
       "      <td>...</td>\n",
       "      <td>1</td>\n",
       "      <td>1</td>\n",
       "      <td>2</td>\n",
       "      <td>1</td>\n",
       "      <td>2</td>\n",
       "      <td>1,715952</td>\n",
       "      <td>522,886</td>\n",
       "      <td>2</td>\n",
       "      <td>956,1651</td>\n",
       "      <td>Normal</td>\n",
       "    </tr>\n",
       "    <tr>\n",
       "      <th>2</th>\n",
       "      <td>145,1166</td>\n",
       "      <td>2</td>\n",
       "      <td>2</td>\n",
       "      <td>12,03538</td>\n",
       "      <td>8,394514</td>\n",
       "      <td>1</td>\n",
       "      <td>156,0882</td>\n",
       "      <td>2</td>\n",
       "      <td>2</td>\n",
       "      <td>1</td>\n",
       "      <td>...</td>\n",
       "      <td>1</td>\n",
       "      <td>1</td>\n",
       "      <td>2</td>\n",
       "      <td>1</td>\n",
       "      <td>2</td>\n",
       "      <td>1,715952</td>\n",
       "      <td>522,8467</td>\n",
       "      <td>2</td>\n",
       "      <td>956,4855</td>\n",
       "      <td>Normal</td>\n",
       "    </tr>\n",
       "    <tr>\n",
       "      <th>3</th>\n",
       "      <td>145,0141</td>\n",
       "      <td>2</td>\n",
       "      <td>2</td>\n",
       "      <td>12,03538</td>\n",
       "      <td>8,394514</td>\n",
       "      <td>1</td>\n",
       "      <td>156,0882</td>\n",
       "      <td>2</td>\n",
       "      <td>2</td>\n",
       "      <td>1</td>\n",
       "      <td>...</td>\n",
       "      <td>1</td>\n",
       "      <td>1</td>\n",
       "      <td>2</td>\n",
       "      <td>1</td>\n",
       "      <td>2</td>\n",
       "      <td>1,71467</td>\n",
       "      <td>522,9645</td>\n",
       "      <td>2</td>\n",
       "      <td>956,806</td>\n",
       "      <td>Normal</td>\n",
       "    </tr>\n",
       "    <tr>\n",
       "      <th>4</th>\n",
       "      <td>144,8859</td>\n",
       "      <td>2</td>\n",
       "      <td>2</td>\n",
       "      <td>12,03538</td>\n",
       "      <td>8,394514</td>\n",
       "      <td>1</td>\n",
       "      <td>156,0882</td>\n",
       "      <td>2</td>\n",
       "      <td>2</td>\n",
       "      <td>1</td>\n",
       "      <td>...</td>\n",
       "      <td>1</td>\n",
       "      <td>1</td>\n",
       "      <td>2</td>\n",
       "      <td>1</td>\n",
       "      <td>2</td>\n",
       "      <td>1,71467</td>\n",
       "      <td>523,4748</td>\n",
       "      <td>2</td>\n",
       "      <td>957,0864</td>\n",
       "      <td>Normal</td>\n",
       "    </tr>\n",
       "  </tbody>\n",
       "</table>\n",
       "<p>5 rows × 26 columns</p>\n",
       "</div>"
      ],
      "text/plain": [
       "     AIT502  P205  P101    AIT504    AIT202  P201    AIT402  UV401  P501  \\\n",
       "0  145,1166     2     2  12,03538  8,396437     1  156,0882      2     2   \n",
       "1  145,1166     2     2  12,03538  8,396437     1  156,0882      2     2   \n",
       "2  145,1166     2     2  12,03538  8,394514     1  156,0882      2     2   \n",
       "3  145,0141     2     2  12,03538  8,394514     1  156,0882      2     2   \n",
       "4  144,8859     2     2  12,03538  8,394514     1  156,0882      2     2   \n",
       "\n",
       "   MV303  ...  MV304  P401 MV101 P102 MV201    FIT401    LIT101  P302  \\\n",
       "0      1  ...      1     1     2    1     2  1,713517  522,8467     2   \n",
       "1      1  ...      1     1     2    1     2  1,715952   522,886     2   \n",
       "2      1  ...      1     1     2    1     2  1,715952  522,8467     2   \n",
       "3      1  ...      1     1     2    1     2   1,71467  522,9645     2   \n",
       "4      1  ...      1     1     2    1     2   1,71467  523,4748     2   \n",
       "\n",
       "     LIT301  Normal/Attack  \n",
       "0  956,1651         Normal  \n",
       "1  956,1651         Normal  \n",
       "2  956,4855         Normal  \n",
       "3   956,806         Normal  \n",
       "4  957,0864         Normal  \n",
       "\n",
       "[5 rows x 26 columns]"
      ]
     },
     "execution_count": 10,
     "metadata": {},
     "output_type": "execute_result"
    }
   ],
   "source": [
    "#Добавим к датасету целевую переменную, чтобы в случае удаления лишних строк, длины тренировочного набора и серия с меткой совпали\n",
    "\n",
    "df_new['Normal/Attack'] = df['Normal/Attack'].copy()\n",
    "df_new.head(5)"
   ]
  },
  {
   "cell_type": "code",
   "execution_count": 11,
   "id": "7f43bc07-ff43-4bd6-b3a1-b2a77d8c385a",
   "metadata": {},
   "outputs": [
    {
     "data": {
      "text/plain": [
       "Index(['AIT502', 'P205', 'P101', 'AIT504', 'AIT202', 'P201', 'AIT402', 'UV401',\n",
       "       'P501', 'MV303', 'P602', 'P203', 'LIT401', 'DPIT301', 'FIT502', 'MV302',\n",
       "       'MV304', 'P401', 'MV101', 'P102', 'MV201', 'FIT401', 'LIT101', 'P302',\n",
       "       'LIT301', 'Normal/Attack'],\n",
       "      dtype='object')"
      ]
     },
     "execution_count": 11,
     "metadata": {},
     "output_type": "execute_result"
    }
   ],
   "source": [
    "df_new.columns"
   ]
  },
  {
   "cell_type": "code",
   "execution_count": 12,
   "id": "d8d8810b-cedb-4723-9ec9-29931c7dd694",
   "metadata": {},
   "outputs": [],
   "source": [
    "#Убираем лишние пробелы из значений целевой переменной\n",
    "\n",
    "df_new['Normal/Attack'] = df_new['Normal/Attack'].str.replace(' ', \"\")"
   ]
  },
  {
   "cell_type": "code",
   "execution_count": 13,
   "id": "aaf966e5-f997-4cf1-8476-b1d1df511b13",
   "metadata": {},
   "outputs": [],
   "source": [
    "unique_values = []\n",
    "\n",
    "for column in df_new.columns:\n",
    "    if len(df_new[column].unique()) < 2:\n",
    "        df_new = df_new.drop(column, axis=1)"
   ]
  },
  {
   "cell_type": "code",
   "execution_count": 14,
   "id": "7663c416-d013-4b4e-bfd7-c06690c9e663",
   "metadata": {},
   "outputs": [],
   "source": [
    "num_cols = []\n",
    "\n",
    "for columns in df_new.columns:\n",
    "    if len(df_new[columns].unique())> 3:\n",
    "        num_cols += [columns]"
   ]
  },
  {
   "cell_type": "code",
   "execution_count": 15,
   "id": "7409286a-1359-4f0e-aa63-a21115414711",
   "metadata": {
    "tags": []
   },
   "outputs": [],
   "source": [
    "for num_col in num_cols:\n",
    "    df_new[num_col] = df_new[num_col].str.replace(',', '.').astype('float')"
   ]
  },
  {
   "cell_type": "code",
   "execution_count": 16,
   "id": "c456ba03-b231-4a61-a0bf-85ff81c3e3d2",
   "metadata": {
    "tags": []
   },
   "outputs": [
    {
     "data": {
      "text/plain": [
       "AIT502           0\n",
       "P205             0\n",
       "P101             0\n",
       "AIT504           0\n",
       "AIT202           0\n",
       "P201             0\n",
       "AIT402           0\n",
       "UV401            0\n",
       "P501             0\n",
       "MV303            0\n",
       "P602             0\n",
       "P203             0\n",
       "LIT401           0\n",
       "DPIT301          0\n",
       "FIT502           0\n",
       "MV302            0\n",
       "MV304            0\n",
       "MV101            0\n",
       "P102             0\n",
       "MV201            0\n",
       "FIT401           0\n",
       "LIT101           0\n",
       "P302             0\n",
       "LIT301           0\n",
       "Normal/Attack    0\n",
       "dtype: int64"
      ]
     },
     "execution_count": 16,
     "metadata": {},
     "output_type": "execute_result"
    }
   ],
   "source": [
    "df_new.isna().sum()"
   ]
  },
  {
   "cell_type": "code",
   "execution_count": 17,
   "id": "50045bfc-60cf-4ea5-a5aa-59cb0ecd003b",
   "metadata": {},
   "outputs": [
    {
     "data": {
      "text/html": [
       "<div>\n",
       "<style scoped>\n",
       "    .dataframe tbody tr th:only-of-type {\n",
       "        vertical-align: middle;\n",
       "    }\n",
       "\n",
       "    .dataframe tbody tr th {\n",
       "        vertical-align: top;\n",
       "    }\n",
       "\n",
       "    .dataframe thead th {\n",
       "        text-align: right;\n",
       "    }\n",
       "</style>\n",
       "<table border=\"1\" class=\"dataframe\">\n",
       "  <thead>\n",
       "    <tr style=\"text-align: right;\">\n",
       "      <th>Normal/Attack</th>\n",
       "      <th>Attack</th>\n",
       "      <th>Normal</th>\n",
       "    </tr>\n",
       "  </thead>\n",
       "  <tbody>\n",
       "    <tr>\n",
       "      <th>FIT401</th>\n",
       "      <td>32758</td>\n",
       "      <td>104</td>\n",
       "    </tr>\n",
       "  </tbody>\n",
       "</table>\n",
       "</div>"
      ],
      "text/plain": [
       "Normal/Attack  Attack  Normal\n",
       "FIT401          32758     104"
      ]
     },
     "execution_count": 17,
     "metadata": {},
     "output_type": "execute_result"
    }
   ],
   "source": [
    "#Построив сводную таблицу, мы видим, что в случае когда FIT401 = 0, в подавляющм числе случаев это признак атаки\n",
    "\n",
    "pd.pivot_table(df_new[df_new.FIT401 == 0], values='FIT401',\n",
    "                    columns=['Normal/Attack'], aggfunc='count')"
   ]
  },
  {
   "cell_type": "code",
   "execution_count": 18,
   "id": "8586d66d-a0e7-4bcc-a66d-3acd762b0078",
   "metadata": {},
   "outputs": [
    {
     "data": {
      "text/html": [
       "<div>\n",
       "<style scoped>\n",
       "    .dataframe tbody tr th:only-of-type {\n",
       "        vertical-align: middle;\n",
       "    }\n",
       "\n",
       "    .dataframe tbody tr th {\n",
       "        vertical-align: top;\n",
       "    }\n",
       "\n",
       "    .dataframe thead th {\n",
       "        text-align: right;\n",
       "    }\n",
       "</style>\n",
       "<table border=\"1\" class=\"dataframe\">\n",
       "  <thead>\n",
       "    <tr style=\"text-align: right;\">\n",
       "      <th>Normal/Attack</th>\n",
       "      <th>Attack</th>\n",
       "      <th>Normal</th>\n",
       "    </tr>\n",
       "  </thead>\n",
       "  <tbody>\n",
       "    <tr>\n",
       "      <th>FIT401</th>\n",
       "      <td>21863</td>\n",
       "      <td>395194</td>\n",
       "    </tr>\n",
       "  </tbody>\n",
       "</table>\n",
       "</div>"
      ],
      "text/plain": [
       "Normal/Attack  Attack  Normal\n",
       "FIT401          21863  395194"
      ]
     },
     "execution_count": 18,
     "metadata": {},
     "output_type": "execute_result"
    }
   ],
   "source": [
    "#А в случаях, когда FIT401 больше 0, в большинстве своем наблюдения имеют метку Normal\n",
    "\n",
    "pd.pivot_table(df_new[df_new.FIT401 > 0], values='FIT401',\n",
    "                    columns=['Normal/Attack'], aggfunc='count')"
   ]
  },
  {
   "cell_type": "code",
   "execution_count": 19,
   "id": "0590878e-5dad-45e5-97db-9a5591cdcb2f",
   "metadata": {},
   "outputs": [
    {
     "name": "stdout",
     "output_type": "stream",
     "text": [
      "54621\n",
      "395298\n"
     ]
    }
   ],
   "source": [
    "#посчитаем сколько строк с меткой Normal и Attack\n",
    "\n",
    "print(len(df_new[df_new['Normal/Attack'] == 'Attack']))\n",
    "print(len(df_new[df_new['Normal/Attack'] == 'Normal']))"
   ]
  },
  {
   "cell_type": "code",
   "execution_count": 20,
   "id": "e3539d4f-92ee-45f4-873d-ef4d82c5690b",
   "metadata": {},
   "outputs": [],
   "source": [
    "#Заменим в нашей целевой переменной метки Normal = 0, Attack = 1\n",
    "\n",
    "df_new['Normal/Attack'] = df_new['Normal/Attack'].replace('Normal', 0)\n",
    "df_new['Normal/Attack'] = df_new['Normal/Attack'].replace('Attack', 1)"
   ]
  },
  {
   "cell_type": "code",
   "execution_count": 21,
   "id": "e54e4b05-1c6e-4bda-9d5d-ed213148493e",
   "metadata": {
    "tags": []
   },
   "outputs": [],
   "source": [
    "X = df_new.drop('Normal/Attack', axis=1).copy()\n",
    "y = df_new['Normal/Attack'].copy()\n",
    "\n",
    "X_train, X_test, y_train, y_test = train_test_split(X, y, test_size=0.1)\n",
    "\n",
    "X_train = X_train.copy()\n",
    "X_test = X_test.copy()\n",
    "y_train = y_train.copy()\n",
    "y_test = y_test.copy()\n",
    "\n",
    "scaler  = MinMaxScaler()\n",
    "scaler.fit_transform(X_train)\n",
    "\n",
    "X_train_scaled = scaler.transform(X_train) \n",
    "X_test_scaled  = scaler.transform(X_test)\n",
    "\n",
    "X_train.iloc[:] = X_train_scaled\n",
    "X_test.iloc[:] = X_test_scaled"
   ]
  },
  {
   "cell_type": "code",
   "execution_count": 22,
   "id": "943c2d1e-2693-4e17-8e7f-69b71747971a",
   "metadata": {},
   "outputs": [
    {
     "data": {
      "text/plain": [
       "LogisticRegression(C=1.66, max_iter=100000, penalty='l1', solver='saga')"
      ]
     },
     "execution_count": 22,
     "metadata": {},
     "output_type": "execute_result"
    }
   ],
   "source": [
    "#@title Логистическая Регрессия{ run: \"auto\" }\n",
    "#@markdown ### Тип Регуляризации \n",
    "penalty= 'l1' #@param [ \"l2\" , \"l1\", \"none\"]{type:\"string\"}\n",
    "#@markdown ### Константа Регуларизации\n",
    "regularization = 1.66 #@param {type:\"slider\", min:0.01, max:3, step:0.05}\n",
    "\n",
    "\n",
    "\n",
    "LogReg = LogisticRegression(fit_intercept=True,\n",
    "                            penalty=penalty,solver='saga',\n",
    "                            C=regularization,\n",
    "                            max_iter=100000)\n",
    "\n",
    "LogReg.fit(X_train, y_train)"
   ]
  },
  {
   "cell_type": "markdown",
   "id": "6c2e245b-7bc7-4edf-bd9f-470377a92d26",
   "metadata": {},
   "source": [
    "Код для сохранения обученной модели в RAW"
   ]
  },
  {
   "cell_type": "raw",
   "id": "6443cf7d-c4c8-4020-b316-232ce75c341b",
   "metadata": {},
   "source": [
    "filename = 'LR_model.sav'\n",
    "pickle.dump(LogReg, open(filename, 'wb'))"
   ]
  },
  {
   "cell_type": "raw",
   "id": "186c79e6-7b9e-46e3-b903-377eaa354be2",
   "metadata": {},
   "source": [
    "filename = 'saved_models/LR_model.sav'\n",
    "LogReg = pickle.load(open(filename, 'rb'))"
   ]
  },
  {
   "cell_type": "code",
   "execution_count": 23,
   "id": "6b5bf5c3-d97f-4520-bfd9-48258a2017b1",
   "metadata": {
    "tags": []
   },
   "outputs": [
    {
     "name": "stdout",
     "output_type": "stream",
     "text": [
      "test error\n",
      "ACC: 0.9652\n",
      "F1 : 0.8356\n"
     ]
    }
   ],
   "source": [
    "y_predict=LogReg.predict(X_test)\n",
    "\n",
    "print('test error')\n",
    "print('ACC: %.4f' % acc(y_predict,y_test))\n",
    "print('F1 : %.4f' %  f1(y_predict,y_test,average='binary'))"
   ]
  },
  {
   "cell_type": "code",
   "execution_count": 24,
   "id": "b185e0e2-e3d8-462d-aa00-6c7494928225",
   "metadata": {},
   "outputs": [
    {
     "name": "stdout",
     "output_type": "stream",
     "text": [
      "              precision    recall  f1-score   support\n",
      "\n",
      "      normal       0.96      1.00      0.98     39539\n",
      "      attack       0.98      0.73      0.84      5453\n",
      "\n",
      "    accuracy                           0.97     44992\n",
      "   macro avg       0.97      0.86      0.91     44992\n",
      "weighted avg       0.97      0.97      0.96     44992\n",
      "\n"
     ]
    }
   ],
   "source": [
    "target_names = ['normal', 'attack']\n",
    "print(classification_report(y_test, y_predict, target_names=target_names))"
   ]
  },
  {
   "cell_type": "markdown",
   "id": "d446be98-2f97-4402-ac77-bce2be3ce08d",
   "metadata": {},
   "source": [
    "ПОСТРОЕНИЕ ДЕРЕВА РЕШЕНИЙ"
   ]
  },
  {
   "cell_type": "markdown",
   "id": "4bac2770-4a30-45c1-8ac4-76910fdb778d",
   "metadata": {},
   "source": [
    "Создаем словарь с параметрами, которые будет перебирать GridSearchCV"
   ]
  },
  {
   "cell_type": "code",
   "execution_count": 25,
   "id": "748457fb-0a37-4346-8915-13b9184a4cfe",
   "metadata": {},
   "outputs": [
    {
     "data": {
      "text/plain": [
       "{'max_depth': 4,\n",
       " 'max_features': 'sqrt',\n",
       " 'min_samples_leaf': 2,\n",
       " 'min_samples_split': 15,\n",
       " 'n_estimators': 2}"
      ]
     },
     "execution_count": 25,
     "metadata": {},
     "output_type": "execute_result"
    }
   ],
   "source": [
    "parametrs = {\n",
    "    'n_estimators': [2,5],\n",
    "    'max_features': ['sqrt'],\n",
    "    'max_depth': [x for x in range(3, 5, 1)],\n",
    "    'min_samples_split': [15,25],\n",
    "    'min_samples_leaf': [1,2,5]\n",
    "}\n",
    "\n",
    "grid_search_reg = GridSearchCV(RandomForestClassifier(), parametrs, scoring = 'accuracy', cv=5, n_jobs=-1)\n",
    "grid_search_reg.fit(X_train, y_train)\n",
    "grid_search_reg.best_params_"
   ]
  },
  {
   "cell_type": "code",
   "execution_count": 26,
   "id": "b0690146-6f83-43dc-a261-292e7aeccd3d",
   "metadata": {},
   "outputs": [],
   "source": [
    "predictions = grid_search_reg.best_estimator_.predict(X_test)"
   ]
  },
  {
   "cell_type": "markdown",
   "id": "2774ccc0-38d3-4bcd-be2d-007708cbbb74",
   "metadata": {},
   "source": [
    "Качество модели на метрике accuracy"
   ]
  },
  {
   "cell_type": "code",
   "execution_count": 27,
   "id": "02ea1677-4cb9-437b-bc05-0529267526fc",
   "metadata": {},
   "outputs": [
    {
     "name": "stdout",
     "output_type": "stream",
     "text": [
      "accuracy: 0.9660384068278806\n"
     ]
    }
   ],
   "source": [
    "print('accuracy:', acc(y_test, predictions))"
   ]
  },
  {
   "cell_type": "code",
   "execution_count": 28,
   "id": "39658483-be5c-4aaa-b767-1d7cff8e1d5c",
   "metadata": {},
   "outputs": [
    {
     "name": "stdout",
     "output_type": "stream",
     "text": [
      "              precision    recall  f1-score   support\n",
      "\n",
      "      normal       0.96      1.00      0.98     39539\n",
      "      attack       0.98      0.73      0.84      5453\n",
      "\n",
      "    accuracy                           0.97     44992\n",
      "   macro avg       0.97      0.86      0.91     44992\n",
      "weighted avg       0.97      0.97      0.96     44992\n",
      "\n"
     ]
    }
   ],
   "source": [
    "target_names = ['normal', 'attack']\n",
    "print(classification_report(y_test, y_predict, target_names=target_names))"
   ]
  },
  {
   "cell_type": "markdown",
   "id": "4a59124a-bc53-4063-a23a-84270d3bb91f",
   "metadata": {},
   "source": [
    "ПОСТРОЕНИЕ SVM МОДЕЛИ"
   ]
  },
  {
   "cell_type": "markdown",
   "id": "1f738178-45ed-4160-881a-deba84efbbe0",
   "metadata": {},
   "source": [
    "Обратить внимание, что SVM модель обучается относительно долго, поэтому был выбрана сокращенная обучающая выборка"
   ]
  },
  {
   "cell_type": "code",
   "execution_count": 29,
   "id": "5f16fedc-4983-448e-afb8-d8fbd5c433a8",
   "metadata": {},
   "outputs": [
    {
     "name": "stdout",
     "output_type": "stream",
     "text": [
      "0.9635\n"
     ]
    }
   ],
   "source": [
    "C = 1.0  # = self._alpha in our algorithm\n",
    "\n",
    "model1 = svm.SVC(kernel='linear', C=C)\n",
    "\n",
    "model1.fit(X_train.iloc[:50000,:], y_train.iloc[:50000])\n",
    "y_predict = model1.predict(X_test.iloc[:10000,:])\n",
    "\n",
    "print(acc(y_test.iloc[:10000], y_predict))"
   ]
  },
  {
   "cell_type": "raw",
   "id": "7a949bfb-9e42-4488-b679-24c21531b4fe",
   "metadata": {},
   "source": [
    "filename = 'SVC_SL_model.sav'\n",
    "pickle.dump(model1, open(filename, 'wb'))"
   ]
  },
  {
   "cell_type": "raw",
   "id": "a2703857-2bc3-42db-990d-91aa1c4d3e3c",
   "metadata": {},
   "source": [
    "filename = 'SVC_SL_model.sav'\n",
    "model1 = pickle.load(open(filename, 'rb'))"
   ]
  },
  {
   "cell_type": "code",
   "execution_count": 30,
   "id": "edfcea96-9acb-4e39-b54e-9e86ee6dc1b1",
   "metadata": {},
   "outputs": [
    {
     "name": "stdout",
     "output_type": "stream",
     "text": [
      "              precision    recall  f1-score   support\n",
      "\n",
      "      normal       0.96      1.00      0.98      8761\n",
      "      attack       0.96      0.74      0.83      1239\n",
      "\n",
      "    accuracy                           0.96     10000\n",
      "   macro avg       0.96      0.87      0.91     10000\n",
      "weighted avg       0.96      0.96      0.96     10000\n",
      "\n"
     ]
    }
   ],
   "source": [
    "target_names = ['normal', 'attack']\n",
    "print(classification_report(y_test.iloc[:10000], y_predict, target_names=target_names))"
   ]
  },
  {
   "cell_type": "markdown",
   "id": "2115dc74-5bc5-461c-838a-04613c8de574",
   "metadata": {},
   "source": [
    "ПОСТРОЕНИЕ SVM ONE-CLASS MODEL (ОБУЧЕНИЕ БЕЗ УЧИТЕЛЯ)"
   ]
  },
  {
   "cell_type": "code",
   "execution_count": 31,
   "id": "1dce7a08-d302-41a6-a700-ed35b795c988",
   "metadata": {},
   "outputs": [
    {
     "data": {
      "text/html": [
       "<div>\n",
       "<style scoped>\n",
       "    .dataframe tbody tr th:only-of-type {\n",
       "        vertical-align: middle;\n",
       "    }\n",
       "\n",
       "    .dataframe tbody tr th {\n",
       "        vertical-align: top;\n",
       "    }\n",
       "\n",
       "    .dataframe thead th {\n",
       "        text-align: right;\n",
       "    }\n",
       "</style>\n",
       "<table border=\"1\" class=\"dataframe\">\n",
       "  <thead>\n",
       "    <tr style=\"text-align: right;\">\n",
       "      <th></th>\n",
       "      <th>AIT502</th>\n",
       "      <th>P205</th>\n",
       "      <th>P101</th>\n",
       "      <th>AIT504</th>\n",
       "      <th>AIT202</th>\n",
       "      <th>P201</th>\n",
       "      <th>AIT402</th>\n",
       "      <th>UV401</th>\n",
       "      <th>P501</th>\n",
       "      <th>MV303</th>\n",
       "      <th>...</th>\n",
       "      <th>MV302</th>\n",
       "      <th>MV304</th>\n",
       "      <th>MV101</th>\n",
       "      <th>P102</th>\n",
       "      <th>MV201</th>\n",
       "      <th>FIT401</th>\n",
       "      <th>LIT101</th>\n",
       "      <th>P302</th>\n",
       "      <th>LIT301</th>\n",
       "      <th>Normal/Attack</th>\n",
       "    </tr>\n",
       "  </thead>\n",
       "  <tbody>\n",
       "    <tr>\n",
       "      <th>0</th>\n",
       "      <td>145.1166</td>\n",
       "      <td>2</td>\n",
       "      <td>2</td>\n",
       "      <td>12.03538</td>\n",
       "      <td>8.396437</td>\n",
       "      <td>1</td>\n",
       "      <td>156.0882</td>\n",
       "      <td>2</td>\n",
       "      <td>2</td>\n",
       "      <td>1</td>\n",
       "      <td>...</td>\n",
       "      <td>2</td>\n",
       "      <td>1</td>\n",
       "      <td>2</td>\n",
       "      <td>1</td>\n",
       "      <td>2</td>\n",
       "      <td>1.713517</td>\n",
       "      <td>522.8467</td>\n",
       "      <td>2</td>\n",
       "      <td>956.1651</td>\n",
       "      <td>0</td>\n",
       "    </tr>\n",
       "    <tr>\n",
       "      <th>1</th>\n",
       "      <td>145.1166</td>\n",
       "      <td>2</td>\n",
       "      <td>2</td>\n",
       "      <td>12.03538</td>\n",
       "      <td>8.396437</td>\n",
       "      <td>1</td>\n",
       "      <td>156.0882</td>\n",
       "      <td>2</td>\n",
       "      <td>2</td>\n",
       "      <td>1</td>\n",
       "      <td>...</td>\n",
       "      <td>2</td>\n",
       "      <td>1</td>\n",
       "      <td>2</td>\n",
       "      <td>1</td>\n",
       "      <td>2</td>\n",
       "      <td>1.715952</td>\n",
       "      <td>522.8860</td>\n",
       "      <td>2</td>\n",
       "      <td>956.1651</td>\n",
       "      <td>0</td>\n",
       "    </tr>\n",
       "    <tr>\n",
       "      <th>2</th>\n",
       "      <td>145.1166</td>\n",
       "      <td>2</td>\n",
       "      <td>2</td>\n",
       "      <td>12.03538</td>\n",
       "      <td>8.394514</td>\n",
       "      <td>1</td>\n",
       "      <td>156.0882</td>\n",
       "      <td>2</td>\n",
       "      <td>2</td>\n",
       "      <td>1</td>\n",
       "      <td>...</td>\n",
       "      <td>2</td>\n",
       "      <td>1</td>\n",
       "      <td>2</td>\n",
       "      <td>1</td>\n",
       "      <td>2</td>\n",
       "      <td>1.715952</td>\n",
       "      <td>522.8467</td>\n",
       "      <td>2</td>\n",
       "      <td>956.4855</td>\n",
       "      <td>0</td>\n",
       "    </tr>\n",
       "    <tr>\n",
       "      <th>3</th>\n",
       "      <td>145.0141</td>\n",
       "      <td>2</td>\n",
       "      <td>2</td>\n",
       "      <td>12.03538</td>\n",
       "      <td>8.394514</td>\n",
       "      <td>1</td>\n",
       "      <td>156.0882</td>\n",
       "      <td>2</td>\n",
       "      <td>2</td>\n",
       "      <td>1</td>\n",
       "      <td>...</td>\n",
       "      <td>2</td>\n",
       "      <td>1</td>\n",
       "      <td>2</td>\n",
       "      <td>1</td>\n",
       "      <td>2</td>\n",
       "      <td>1.714670</td>\n",
       "      <td>522.9645</td>\n",
       "      <td>2</td>\n",
       "      <td>956.8060</td>\n",
       "      <td>0</td>\n",
       "    </tr>\n",
       "    <tr>\n",
       "      <th>4</th>\n",
       "      <td>144.8859</td>\n",
       "      <td>2</td>\n",
       "      <td>2</td>\n",
       "      <td>12.03538</td>\n",
       "      <td>8.394514</td>\n",
       "      <td>1</td>\n",
       "      <td>156.0882</td>\n",
       "      <td>2</td>\n",
       "      <td>2</td>\n",
       "      <td>1</td>\n",
       "      <td>...</td>\n",
       "      <td>2</td>\n",
       "      <td>1</td>\n",
       "      <td>2</td>\n",
       "      <td>1</td>\n",
       "      <td>2</td>\n",
       "      <td>1.714670</td>\n",
       "      <td>523.4748</td>\n",
       "      <td>2</td>\n",
       "      <td>957.0864</td>\n",
       "      <td>0</td>\n",
       "    </tr>\n",
       "  </tbody>\n",
       "</table>\n",
       "<p>5 rows × 25 columns</p>\n",
       "</div>"
      ],
      "text/plain": [
       "     AIT502  P205  P101    AIT504    AIT202  P201    AIT402  UV401  P501  \\\n",
       "0  145.1166     2     2  12.03538  8.396437     1  156.0882      2     2   \n",
       "1  145.1166     2     2  12.03538  8.396437     1  156.0882      2     2   \n",
       "2  145.1166     2     2  12.03538  8.394514     1  156.0882      2     2   \n",
       "3  145.0141     2     2  12.03538  8.394514     1  156.0882      2     2   \n",
       "4  144.8859     2     2  12.03538  8.394514     1  156.0882      2     2   \n",
       "\n",
       "   MV303  ...  MV302  MV304  MV101  P102  MV201    FIT401    LIT101  P302  \\\n",
       "0      1  ...      2      1      2     1      2  1.713517  522.8467     2   \n",
       "1      1  ...      2      1      2     1      2  1.715952  522.8860     2   \n",
       "2      1  ...      2      1      2     1      2  1.715952  522.8467     2   \n",
       "3      1  ...      2      1      2     1      2  1.714670  522.9645     2   \n",
       "4      1  ...      2      1      2     1      2  1.714670  523.4748     2   \n",
       "\n",
       "     LIT301  Normal/Attack  \n",
       "0  956.1651              0  \n",
       "1  956.1651              0  \n",
       "2  956.4855              0  \n",
       "3  956.8060              0  \n",
       "4  957.0864              0  \n",
       "\n",
       "[5 rows x 25 columns]"
      ]
     },
     "execution_count": 31,
     "metadata": {},
     "output_type": "execute_result"
    }
   ],
   "source": [
    "df_new.head()"
   ]
  },
  {
   "cell_type": "markdown",
   "id": "0bcf8887-23f3-4636-acdf-915f6a3d0ca8",
   "metadata": {},
   "source": [
    "Исправим метки на 1(normal) и на -1(attack)"
   ]
  },
  {
   "cell_type": "code",
   "execution_count": 32,
   "id": "56cc0305-87c9-4198-bb53-396633b188ef",
   "metadata": {
    "tags": []
   },
   "outputs": [],
   "source": [
    "df_new['Normal/Attack'] = df_new['Normal/Attack'].replace(1, -1)\n",
    "df_new['Normal/Attack'] = df_new['Normal/Attack'].replace(0, 1)"
   ]
  },
  {
   "cell_type": "markdown",
   "id": "9348ec4d-215a-4860-8509-50b7fb990c6d",
   "metadata": {},
   "source": [
    "Обучать будем на обрезанном датасете, чтобы снизить время обучения"
   ]
  },
  {
   "cell_type": "code",
   "execution_count": 33,
   "id": "1cb224a4-2c8e-44d1-8fed-4e8bb1155811",
   "metadata": {},
   "outputs": [],
   "source": [
    "X = df_new.iloc[:50000].drop('Normal/Attack', axis=1)\n",
    "y = df_new['Normal/Attack'].iloc[:50000]\n",
    "\n",
    "X_train, X_test, y_train, y_test = train_test_split(X, y, test_size=0.1)\n",
    "\n",
    "X_train = X_train.copy()\n",
    "X_test = X_test.copy()\n",
    "y_train = y_train.copy()\n",
    "y_test = y_test.copy()\n",
    "\n",
    "scaler  = MinMaxScaler()\n",
    "scaler.fit_transform(X_train)\n",
    "\n",
    "X_train_scaled = scaler.transform(X_train) \n",
    "X_test_scaled  = scaler.transform(X_test)\n",
    "\n",
    "X_train.iloc[:] = X_train_scaled\n",
    "X_test.iloc[:] = X_test_scaled"
   ]
  },
  {
   "cell_type": "markdown",
   "id": "fb884589-7bda-4104-9869-4511667f3976",
   "metadata": {},
   "source": [
    "Доля выбросов относительно общего количества наблюдений"
   ]
  },
  {
   "cell_type": "code",
   "execution_count": 34,
   "id": "036ddc20-737e-445b-9c22-b077c56bf39b",
   "metadata": {},
   "outputs": [
    {
     "name": "stdout",
     "output_type": "stream",
     "text": [
      "54621\n",
      "395298\n",
      "0.14\n"
     ]
    }
   ],
   "source": [
    "outliers = df_new['Normal/Attack'][df_new['Normal/Attack'] == -1]\n",
    "print(len(outliers))\n",
    "normal = df_new['Normal/Attack'][df_new['Normal/Attack'] == 1]\n",
    "print(len(normal))\n",
    "ratio = round(len(outliers) / len(normal),2)\n",
    "print(ratio)"
   ]
  },
  {
   "cell_type": "code",
   "execution_count": 35,
   "id": "5b2d7550-888f-45c7-a0b1-1969322ce684",
   "metadata": {},
   "outputs": [
    {
     "name": "stdout",
     "output_type": "stream",
     "text": [
      "nu 0.14\n"
     ]
    },
    {
     "data": {
      "text/plain": [
       "OneClassSVM(gamma=5e-05, nu=0.14)"
      ]
     },
     "execution_count": 35,
     "metadata": {},
     "output_type": "execute_result"
    }
   ],
   "source": [
    "nu = ratio\n",
    "print(\"nu\", nu)\n",
    "\n",
    "model = svm.OneClassSVM(nu=nu, kernel='rbf', gamma=0.00005) \n",
    "model.fit(X_train)"
   ]
  },
  {
   "cell_type": "code",
   "execution_count": 36,
   "id": "5f9dda2e-390a-40e0-a0de-e60488980ad0",
   "metadata": {},
   "outputs": [
    {
     "name": "stdout",
     "output_type": "stream",
     "text": [
      "              precision    recall  f1-score   support\n",
      "\n",
      "      normal       0.39      0.64      0.49       451\n",
      "      attack       0.96      0.90      0.93      4549\n",
      "\n",
      "    accuracy                           0.88      5000\n",
      "   macro avg       0.68      0.77      0.71      5000\n",
      "weighted avg       0.91      0.88      0.89      5000\n",
      "\n"
     ]
    }
   ],
   "source": [
    "y_predict = model.predict(X_test)\n",
    "target_names = ['normal', 'attack']\n",
    "print(classification_report(y_test, y_predict, target_names=target_names))"
   ]
  },
  {
   "cell_type": "code",
   "execution_count": 41,
   "id": "5c364ed6-2b91-430e-8791-04384501dbac",
   "metadata": {},
   "outputs": [
    {
     "data": {
      "text/plain": [
       "0.77"
      ]
     },
     "execution_count": 41,
     "metadata": {},
     "output_type": "execute_result"
    }
   ],
   "source": [
    "round(roc_auc_score(y_test, y_predict),2)"
   ]
  },
  {
   "cell_type": "code",
   "execution_count": null,
   "id": "b9a510d0-90e4-41d9-804e-8bfbdba11585",
   "metadata": {},
   "outputs": [],
   "source": []
  }
 ],
 "metadata": {
  "kernelspec": {
   "display_name": "Python 3 (ipykernel)",
   "language": "python",
   "name": "python3"
  },
  "language_info": {
   "codemirror_mode": {
    "name": "ipython",
    "version": 3
   },
   "file_extension": ".py",
   "mimetype": "text/x-python",
   "name": "python",
   "nbconvert_exporter": "python",
   "pygments_lexer": "ipython3",
   "version": "3.9.7"
  }
 },
 "nbformat": 4,
 "nbformat_minor": 5
}
