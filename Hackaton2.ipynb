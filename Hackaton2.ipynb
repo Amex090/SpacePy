{
 "cells": [
  {
   "cell_type": "code",
   "execution_count": 1,
   "id": "cc8e8d5a-2c64-4a9b-a316-830cd9bdea59",
   "metadata": {},
   "outputs": [],
   "source": [
    "import pandas as pd\n",
    "import numpy as np\n",
    "import matplotlib.pyplot as plt \n",
    "import seaborn as sns; sns.set()\n",
    "from sklearn.metrics import mean_squared_error as mse\n",
    "from sklearn.metrics import r2_score\n",
    "from sklearn.model_selection import train_test_split\n",
    "from sklearn.model_selection import ShuffleSplit\n",
    "from sklearn.model_selection import cross_validate\n",
    "from sklearn.preprocessing import MinMaxScaler\n",
    "from sklearn.linear_model import Ridge\n",
    "from sklearn.model_selection import cross_val_score\n",
    "from sklearn.linear_model import LogisticRegression\n",
    "from sklearn.metrics import classification_report\n",
    "from sklearn.model_selection import StratifiedKFold\n",
    "from sklearn.metrics import confusion_matrix\n",
    "from sklearn.metrics import accuracy_score as acc\n",
    "from sklearn.metrics import f1_score as f1"
   ]
  },
  {
   "cell_type": "code",
   "execution_count": 59,
   "id": "854676d2-20b1-4a9f-9b65-6cabde91d151",
   "metadata": {},
   "outputs": [
    {
     "name": "stderr",
     "output_type": "stream",
     "text": [
      "X:\\anaconda\\lib\\site-packages\\IPython\\core\\interactiveshell.py:3444: DtypeWarning: Columns (1,9,28,46) have mixed types.Specify dtype option on import or set low_memory=False.\n",
      "  exec(code_obj, self.user_global_ns, self.user_ns)\n"
     ]
    }
   ],
   "source": [
    "!wget https://www.dropbox.com/s/bw7vcwdse226vr4/data.csv\n",
    "df = pd.read_csv('data/data.csv',sep=';')"
   ]
  },
  {
   "cell_type": "code",
   "execution_count": 4,
   "id": "cd235fef-5118-4f99-9bac-2656f1cd4c1c",
   "metadata": {},
   "outputs": [],
   "source": [
    "#удаляем лишние пробелы из названия колонок\n",
    "\n",
    "df.columns = df.columns.str.replace(' ', '')"
   ]
  },
  {
   "cell_type": "markdown",
   "id": "638c8e99-621f-472e-8454-5e57896cda6a",
   "metadata": {
    "tags": []
   },
   "source": [
    "ОПРЕДЕЛЯЕМ ОСНОВНЫЕ ДАТЧИКИ, КОТОРЫЕ ПОДВЕРГАЮТСЯ АТАКАМ"
   ]
  },
  {
   "cell_type": "code",
   "execution_count": 5,
   "id": "7bf6423a-b955-4fae-be79-37e088f8b02e",
   "metadata": {},
   "outputs": [],
   "source": [
    "#Чтение файла\n",
    "\n",
    "df2 = pd.read_excel('data/List_of_attacks_Final.xlsx')\n",
    "df2 = df2.drop(df2[df2['Attack Point'].isna() == True].index)"
   ]
  },
  {
   "cell_type": "code",
   "execution_count": 6,
   "id": "45582043-9bb9-482a-a8a5-838138afa175",
   "metadata": {},
   "outputs": [],
   "source": [
    "#Удаляем строки No Physical Impact Attack\n",
    "\n",
    "df2 = df2.drop(df2[df2['Attack Point'] == 'No Physical Impact Attack'].index)"
   ]
  },
  {
   "cell_type": "code",
   "execution_count": 7,
   "id": "8db8409c-d9e3-42a1-b2a4-9c47321529fb",
   "metadata": {},
   "outputs": [
    {
     "name": "stdout",
     "output_type": "stream",
     "text": [
      "количество датчиков, которые подвергаются атакам 28\n",
      "\n",
      "Список датчиков\n",
      "['MV-101' 'P-102' 'LIT-101' 'MV-504' 'AIT-202' 'LIT-301' 'DPIT-301'\n",
      " 'FIT-401' 'MV-304' 'Mv-303' 'MV-303' 'AIT-504' 'MV-101, LIT-101'\n",
      " 'UV-401, AIT-502, P-501' 'P-602, DIT-301, MV-302' 'P-203, P-205'\n",
      " 'LIT-401, P-401' 'P-101, LIT-301' 'P-302, LIT-401' 'P-302'\n",
      " 'P-201, P-203, P-205' 'LIT-101, P-101, MV-201' 'LIT-401' 'P-101'\n",
      " 'P-101; P-102' 'P-501, FIT-502' 'AIT-402, AIT-502' 'FIT-401, AIT-502']\n"
     ]
    }
   ],
   "source": [
    "#Получаем список уникальных значений из колонки Attack Point\n",
    "\n",
    "print(\"количество датчиков, которые подвергаются атакам\", len(df2['Attack Point'].unique()))\n",
    "print()\n",
    "print(\"Список датчиков\")\n",
    "print(df2['Attack Point'].unique())"
   ]
  },
  {
   "cell_type": "code",
   "execution_count": 8,
   "id": "e5a3b6a8-5f1b-4c40-af3c-9489b02fdc14",
   "metadata": {},
   "outputs": [],
   "source": [
    "#Сплитим значения по пробелу и добавляем в новый чистый список\n",
    "\n",
    "features = []\n",
    "\n",
    "for col in df2['Attack Point'].unique():\n",
    "    features += col.split(', ')\n",
    "\n",
    "#уберем символ \"-\" из названия фичей и сделаем все буквы заглавными\n",
    "\n",
    "for i in range(len(features)):\n",
    "    features[i] = features[i].replace('-', \"\")\n",
    "    features[i] = features[i].upper()\n",
    "    \n",
    "features = list(set(features))"
   ]
  },
  {
   "cell_type": "code",
   "execution_count": 9,
   "id": "dbacd317-4d15-4e7a-808d-9492f86868fe",
   "metadata": {},
   "outputs": [],
   "source": [
    "#удалим фичи которых нет в тренировочном наборе данных\n",
    "\n",
    "for i in features:\n",
    "    if i not in df.columns:\n",
    "        features.remove(i)"
   ]
  },
  {
   "cell_type": "code",
   "execution_count": 10,
   "id": "0a3752b1-175b-4723-adeb-94c81aa21e5c",
   "metadata": {},
   "outputs": [],
   "source": [
    "#создадим новый датафрейм в котором будут только фичи из списка features\n",
    "\n",
    "df_new = pd.DataFrame()\n",
    "\n",
    "for colname in features:\n",
    "    df_new[colname] = df[colname].copy()"
   ]
  },
  {
   "cell_type": "code",
   "execution_count": 11,
   "id": "fb5bd731-9606-43eb-b30a-de9b036168a8",
   "metadata": {
    "tags": []
   },
   "outputs": [
    {
     "data": {
      "text/html": [
       "<div>\n",
       "<style scoped>\n",
       "    .dataframe tbody tr th:only-of-type {\n",
       "        vertical-align: middle;\n",
       "    }\n",
       "\n",
       "    .dataframe tbody tr th {\n",
       "        vertical-align: top;\n",
       "    }\n",
       "\n",
       "    .dataframe thead th {\n",
       "        text-align: right;\n",
       "    }\n",
       "</style>\n",
       "<table border=\"1\" class=\"dataframe\">\n",
       "  <thead>\n",
       "    <tr style=\"text-align: right;\">\n",
       "      <th></th>\n",
       "      <th>P401</th>\n",
       "      <th>MV201</th>\n",
       "      <th>P201</th>\n",
       "      <th>UV401</th>\n",
       "      <th>FIT401</th>\n",
       "      <th>P302</th>\n",
       "      <th>AIT504</th>\n",
       "      <th>DPIT301</th>\n",
       "      <th>P602</th>\n",
       "      <th>LIT401</th>\n",
       "      <th>...</th>\n",
       "      <th>AIT502</th>\n",
       "      <th>P205</th>\n",
       "      <th>MV302</th>\n",
       "      <th>MV101</th>\n",
       "      <th>FIT502</th>\n",
       "      <th>P501</th>\n",
       "      <th>LIT301</th>\n",
       "      <th>P102</th>\n",
       "      <th>AIT402</th>\n",
       "      <th>Normal/Attack</th>\n",
       "    </tr>\n",
       "  </thead>\n",
       "  <tbody>\n",
       "    <tr>\n",
       "      <th>0</th>\n",
       "      <td>1</td>\n",
       "      <td>2</td>\n",
       "      <td>1</td>\n",
       "      <td>2</td>\n",
       "      <td>1,713517</td>\n",
       "      <td>2</td>\n",
       "      <td>12,03538</td>\n",
       "      <td>19,74838</td>\n",
       "      <td>1</td>\n",
       "      <td>942,0662</td>\n",
       "      <td>...</td>\n",
       "      <td>145,1166</td>\n",
       "      <td>2</td>\n",
       "      <td>2</td>\n",
       "      <td>2</td>\n",
       "      <td>1,279621</td>\n",
       "      <td>2</td>\n",
       "      <td>956,1651</td>\n",
       "      <td>1</td>\n",
       "      <td>156,0882</td>\n",
       "      <td>Normal</td>\n",
       "    </tr>\n",
       "    <tr>\n",
       "      <th>1</th>\n",
       "      <td>1</td>\n",
       "      <td>2</td>\n",
       "      <td>1</td>\n",
       "      <td>2</td>\n",
       "      <td>1,715952</td>\n",
       "      <td>2</td>\n",
       "      <td>12,03538</td>\n",
       "      <td>19,74838</td>\n",
       "      <td>1</td>\n",
       "      <td>942,0277</td>\n",
       "      <td>...</td>\n",
       "      <td>145,1166</td>\n",
       "      <td>2</td>\n",
       "      <td>2</td>\n",
       "      <td>2</td>\n",
       "      <td>1,297554</td>\n",
       "      <td>2</td>\n",
       "      <td>956,1651</td>\n",
       "      <td>1</td>\n",
       "      <td>156,0882</td>\n",
       "      <td>Normal</td>\n",
       "    </tr>\n",
       "    <tr>\n",
       "      <th>2</th>\n",
       "      <td>1</td>\n",
       "      <td>2</td>\n",
       "      <td>1</td>\n",
       "      <td>2</td>\n",
       "      <td>1,715952</td>\n",
       "      <td>2</td>\n",
       "      <td>12,03538</td>\n",
       "      <td>19,69076</td>\n",
       "      <td>1</td>\n",
       "      <td>941,8739</td>\n",
       "      <td>...</td>\n",
       "      <td>145,1166</td>\n",
       "      <td>2</td>\n",
       "      <td>2</td>\n",
       "      <td>2</td>\n",
       "      <td>1,293967</td>\n",
       "      <td>2</td>\n",
       "      <td>956,4855</td>\n",
       "      <td>1</td>\n",
       "      <td>156,0882</td>\n",
       "      <td>Normal</td>\n",
       "    </tr>\n",
       "    <tr>\n",
       "      <th>3</th>\n",
       "      <td>1</td>\n",
       "      <td>2</td>\n",
       "      <td>1</td>\n",
       "      <td>2</td>\n",
       "      <td>1,71467</td>\n",
       "      <td>2</td>\n",
       "      <td>12,03538</td>\n",
       "      <td>19,69076</td>\n",
       "      <td>1</td>\n",
       "      <td>941,797</td>\n",
       "      <td>...</td>\n",
       "      <td>145,0141</td>\n",
       "      <td>2</td>\n",
       "      <td>2</td>\n",
       "      <td>2</td>\n",
       "      <td>1,281158</td>\n",
       "      <td>2</td>\n",
       "      <td>956,806</td>\n",
       "      <td>1</td>\n",
       "      <td>156,0882</td>\n",
       "      <td>Normal</td>\n",
       "    </tr>\n",
       "    <tr>\n",
       "      <th>4</th>\n",
       "      <td>1</td>\n",
       "      <td>2</td>\n",
       "      <td>1</td>\n",
       "      <td>2</td>\n",
       "      <td>1,71467</td>\n",
       "      <td>2</td>\n",
       "      <td>12,03538</td>\n",
       "      <td>19,69076</td>\n",
       "      <td>1</td>\n",
       "      <td>942,22</td>\n",
       "      <td>...</td>\n",
       "      <td>144,8859</td>\n",
       "      <td>2</td>\n",
       "      <td>2</td>\n",
       "      <td>2</td>\n",
       "      <td>1,281158</td>\n",
       "      <td>2</td>\n",
       "      <td>957,0864</td>\n",
       "      <td>1</td>\n",
       "      <td>156,0882</td>\n",
       "      <td>Normal</td>\n",
       "    </tr>\n",
       "  </tbody>\n",
       "</table>\n",
       "<p>5 rows × 26 columns</p>\n",
       "</div>"
      ],
      "text/plain": [
       "   P401  MV201  P201  UV401    FIT401  P302    AIT504   DPIT301  P602  \\\n",
       "0     1      2     1      2  1,713517     2  12,03538  19,74838     1   \n",
       "1     1      2     1      2  1,715952     2  12,03538  19,74838     1   \n",
       "2     1      2     1      2  1,715952     2  12,03538  19,69076     1   \n",
       "3     1      2     1      2   1,71467     2  12,03538  19,69076     1   \n",
       "4     1      2     1      2   1,71467     2  12,03538  19,69076     1   \n",
       "\n",
       "     LIT401  ...    AIT502  P205 MV302 MV101    FIT502  P501    LIT301  P102  \\\n",
       "0  942,0662  ...  145,1166     2     2     2  1,279621     2  956,1651     1   \n",
       "1  942,0277  ...  145,1166     2     2     2  1,297554     2  956,1651     1   \n",
       "2  941,8739  ...  145,1166     2     2     2  1,293967     2  956,4855     1   \n",
       "3   941,797  ...  145,0141     2     2     2  1,281158     2   956,806     1   \n",
       "4    942,22  ...  144,8859     2     2     2  1,281158     2  957,0864     1   \n",
       "\n",
       "     AIT402  Normal/Attack  \n",
       "0  156,0882         Normal  \n",
       "1  156,0882         Normal  \n",
       "2  156,0882         Normal  \n",
       "3  156,0882         Normal  \n",
       "4  156,0882         Normal  \n",
       "\n",
       "[5 rows x 26 columns]"
      ]
     },
     "execution_count": 11,
     "metadata": {},
     "output_type": "execute_result"
    }
   ],
   "source": [
    "#Добавим к датасету целевую переменную, чтобы в случае удаления лишних строк, длины тренировочного набора и серия с меткой совпали\n",
    "\n",
    "df_new['Normal/Attack'] = df['Normal/Attack'].copy()\n",
    "df_new.head(5)"
   ]
  },
  {
   "cell_type": "code",
   "execution_count": 12,
   "id": "7f43bc07-ff43-4bd6-b3a1-b2a77d8c385a",
   "metadata": {},
   "outputs": [
    {
     "data": {
      "text/plain": [
       "Index(['P401', 'MV201', 'P201', 'UV401', 'FIT401', 'P302', 'AIT504', 'DPIT301',\n",
       "       'P602', 'LIT401', 'MV304', 'P101', 'AIT202', 'LIT101', 'P203', 'MV303',\n",
       "       'AIT502', 'P205', 'MV302', 'MV101', 'FIT502', 'P501', 'LIT301', 'P102',\n",
       "       'AIT402', 'Normal/Attack'],\n",
       "      dtype='object')"
      ]
     },
     "execution_count": 12,
     "metadata": {},
     "output_type": "execute_result"
    }
   ],
   "source": [
    "df_new.columns"
   ]
  },
  {
   "cell_type": "code",
   "execution_count": 13,
   "id": "d8d8810b-cedb-4723-9ec9-29931c7dd694",
   "metadata": {},
   "outputs": [],
   "source": [
    "#Убираем лишние пробелы из значений целевой переменной\n",
    "\n",
    "df_new['Normal/Attack'] = df_new['Normal/Attack'].str.replace(' ', \"\")"
   ]
  },
  {
   "cell_type": "code",
   "execution_count": 14,
   "id": "aaf966e5-f997-4cf1-8476-b1d1df511b13",
   "metadata": {},
   "outputs": [
    {
     "name": "stdout",
     "output_type": "stream",
     "text": [
      "P401\n"
     ]
    }
   ],
   "source": [
    "unique_values = []\n",
    "\n",
    "for column in df_new.columns:\n",
    "    if len(df_new[column].unique()) < 2:\n",
    "        df_new = df_new.drop(column, axis=1)\n",
    "        print(column)"
   ]
  },
  {
   "cell_type": "code",
   "execution_count": 17,
   "id": "e6bc9608-11c3-4ce8-98b6-8db4cb1a1b8a",
   "metadata": {},
   "outputs": [
    {
     "data": {
      "text/html": [
       "<div>\n",
       "<style scoped>\n",
       "    .dataframe tbody tr th:only-of-type {\n",
       "        vertical-align: middle;\n",
       "    }\n",
       "\n",
       "    .dataframe tbody tr th {\n",
       "        vertical-align: top;\n",
       "    }\n",
       "\n",
       "    .dataframe thead th {\n",
       "        text-align: right;\n",
       "    }\n",
       "</style>\n",
       "<table border=\"1\" class=\"dataframe\">\n",
       "  <thead>\n",
       "    <tr style=\"text-align: right;\">\n",
       "      <th></th>\n",
       "      <th>MV201</th>\n",
       "      <th>P201</th>\n",
       "      <th>UV401</th>\n",
       "      <th>FIT401</th>\n",
       "      <th>P302</th>\n",
       "      <th>AIT504</th>\n",
       "      <th>DPIT301</th>\n",
       "      <th>P602</th>\n",
       "      <th>LIT401</th>\n",
       "      <th>MV304</th>\n",
       "      <th>...</th>\n",
       "      <th>AIT502</th>\n",
       "      <th>P205</th>\n",
       "      <th>MV302</th>\n",
       "      <th>MV101</th>\n",
       "      <th>FIT502</th>\n",
       "      <th>P501</th>\n",
       "      <th>LIT301</th>\n",
       "      <th>P102</th>\n",
       "      <th>AIT402</th>\n",
       "      <th>Normal/Attack</th>\n",
       "    </tr>\n",
       "  </thead>\n",
       "  <tbody>\n",
       "    <tr>\n",
       "      <th>0</th>\n",
       "      <td>2</td>\n",
       "      <td>1</td>\n",
       "      <td>2</td>\n",
       "      <td>1,713517</td>\n",
       "      <td>2</td>\n",
       "      <td>12,03538</td>\n",
       "      <td>19,74838</td>\n",
       "      <td>1</td>\n",
       "      <td>942,0662</td>\n",
       "      <td>1</td>\n",
       "      <td>...</td>\n",
       "      <td>145,1166</td>\n",
       "      <td>2</td>\n",
       "      <td>2</td>\n",
       "      <td>2</td>\n",
       "      <td>1,279621</td>\n",
       "      <td>2</td>\n",
       "      <td>956,1651</td>\n",
       "      <td>1</td>\n",
       "      <td>156,0882</td>\n",
       "      <td>Normal</td>\n",
       "    </tr>\n",
       "    <tr>\n",
       "      <th>1</th>\n",
       "      <td>2</td>\n",
       "      <td>1</td>\n",
       "      <td>2</td>\n",
       "      <td>1,715952</td>\n",
       "      <td>2</td>\n",
       "      <td>12,03538</td>\n",
       "      <td>19,74838</td>\n",
       "      <td>1</td>\n",
       "      <td>942,0277</td>\n",
       "      <td>1</td>\n",
       "      <td>...</td>\n",
       "      <td>145,1166</td>\n",
       "      <td>2</td>\n",
       "      <td>2</td>\n",
       "      <td>2</td>\n",
       "      <td>1,297554</td>\n",
       "      <td>2</td>\n",
       "      <td>956,1651</td>\n",
       "      <td>1</td>\n",
       "      <td>156,0882</td>\n",
       "      <td>Normal</td>\n",
       "    </tr>\n",
       "    <tr>\n",
       "      <th>2</th>\n",
       "      <td>2</td>\n",
       "      <td>1</td>\n",
       "      <td>2</td>\n",
       "      <td>1,715952</td>\n",
       "      <td>2</td>\n",
       "      <td>12,03538</td>\n",
       "      <td>19,69076</td>\n",
       "      <td>1</td>\n",
       "      <td>941,8739</td>\n",
       "      <td>1</td>\n",
       "      <td>...</td>\n",
       "      <td>145,1166</td>\n",
       "      <td>2</td>\n",
       "      <td>2</td>\n",
       "      <td>2</td>\n",
       "      <td>1,293967</td>\n",
       "      <td>2</td>\n",
       "      <td>956,4855</td>\n",
       "      <td>1</td>\n",
       "      <td>156,0882</td>\n",
       "      <td>Normal</td>\n",
       "    </tr>\n",
       "    <tr>\n",
       "      <th>3</th>\n",
       "      <td>2</td>\n",
       "      <td>1</td>\n",
       "      <td>2</td>\n",
       "      <td>1,71467</td>\n",
       "      <td>2</td>\n",
       "      <td>12,03538</td>\n",
       "      <td>19,69076</td>\n",
       "      <td>1</td>\n",
       "      <td>941,797</td>\n",
       "      <td>1</td>\n",
       "      <td>...</td>\n",
       "      <td>145,0141</td>\n",
       "      <td>2</td>\n",
       "      <td>2</td>\n",
       "      <td>2</td>\n",
       "      <td>1,281158</td>\n",
       "      <td>2</td>\n",
       "      <td>956,806</td>\n",
       "      <td>1</td>\n",
       "      <td>156,0882</td>\n",
       "      <td>Normal</td>\n",
       "    </tr>\n",
       "    <tr>\n",
       "      <th>4</th>\n",
       "      <td>2</td>\n",
       "      <td>1</td>\n",
       "      <td>2</td>\n",
       "      <td>1,71467</td>\n",
       "      <td>2</td>\n",
       "      <td>12,03538</td>\n",
       "      <td>19,69076</td>\n",
       "      <td>1</td>\n",
       "      <td>942,22</td>\n",
       "      <td>1</td>\n",
       "      <td>...</td>\n",
       "      <td>144,8859</td>\n",
       "      <td>2</td>\n",
       "      <td>2</td>\n",
       "      <td>2</td>\n",
       "      <td>1,281158</td>\n",
       "      <td>2</td>\n",
       "      <td>957,0864</td>\n",
       "      <td>1</td>\n",
       "      <td>156,0882</td>\n",
       "      <td>Normal</td>\n",
       "    </tr>\n",
       "    <tr>\n",
       "      <th>...</th>\n",
       "      <td>...</td>\n",
       "      <td>...</td>\n",
       "      <td>...</td>\n",
       "      <td>...</td>\n",
       "      <td>...</td>\n",
       "      <td>...</td>\n",
       "      <td>...</td>\n",
       "      <td>...</td>\n",
       "      <td>...</td>\n",
       "      <td>...</td>\n",
       "      <td>...</td>\n",
       "      <td>...</td>\n",
       "      <td>...</td>\n",
       "      <td>...</td>\n",
       "      <td>...</td>\n",
       "      <td>...</td>\n",
       "      <td>...</td>\n",
       "      <td>...</td>\n",
       "      <td>...</td>\n",
       "      <td>...</td>\n",
       "      <td>...</td>\n",
       "    </tr>\n",
       "    <tr>\n",
       "      <th>449914</th>\n",
       "      <td>2</td>\n",
       "      <td>2</td>\n",
       "      <td>2</td>\n",
       "      <td>1,705315</td>\n",
       "      <td>2</td>\n",
       "      <td>14,8039</td>\n",
       "      <td>20,39823</td>\n",
       "      <td>1</td>\n",
       "      <td>956,8701</td>\n",
       "      <td>1</td>\n",
       "      <td>...</td>\n",
       "      <td>139,1182</td>\n",
       "      <td>2</td>\n",
       "      <td>2</td>\n",
       "      <td>2</td>\n",
       "      <td>1,288971</td>\n",
       "      <td>2</td>\n",
       "      <td>974,5498</td>\n",
       "      <td>1</td>\n",
       "      <td>145,6037</td>\n",
       "      <td>Normal</td>\n",
       "    </tr>\n",
       "    <tr>\n",
       "      <th>449915</th>\n",
       "      <td>2</td>\n",
       "      <td>2</td>\n",
       "      <td>2</td>\n",
       "      <td>1,705315</td>\n",
       "      <td>2</td>\n",
       "      <td>14,8039</td>\n",
       "      <td>20,39823</td>\n",
       "      <td>1</td>\n",
       "      <td>957,1777</td>\n",
       "      <td>1</td>\n",
       "      <td>...</td>\n",
       "      <td>139,1182</td>\n",
       "      <td>2</td>\n",
       "      <td>2</td>\n",
       "      <td>2</td>\n",
       "      <td>1,272704</td>\n",
       "      <td>2</td>\n",
       "      <td>974,5898</td>\n",
       "      <td>1</td>\n",
       "      <td>145,6037</td>\n",
       "      <td>Normal</td>\n",
       "    </tr>\n",
       "    <tr>\n",
       "      <th>449916</th>\n",
       "      <td>2</td>\n",
       "      <td>2</td>\n",
       "      <td>2</td>\n",
       "      <td>1,706212</td>\n",
       "      <td>2</td>\n",
       "      <td>14,8039</td>\n",
       "      <td>20,33101</td>\n",
       "      <td>1</td>\n",
       "      <td>957,293</td>\n",
       "      <td>1</td>\n",
       "      <td>...</td>\n",
       "      <td>139,1182</td>\n",
       "      <td>2</td>\n",
       "      <td>2</td>\n",
       "      <td>2</td>\n",
       "      <td>1,269502</td>\n",
       "      <td>2</td>\n",
       "      <td>974,2695</td>\n",
       "      <td>1</td>\n",
       "      <td>145,5524</td>\n",
       "      <td>Normal</td>\n",
       "    </tr>\n",
       "    <tr>\n",
       "      <th>449917</th>\n",
       "      <td>2</td>\n",
       "      <td>2</td>\n",
       "      <td>2</td>\n",
       "      <td>1,706212</td>\n",
       "      <td>2</td>\n",
       "      <td>14,8039</td>\n",
       "      <td>20,29579</td>\n",
       "      <td>1</td>\n",
       "      <td>957,6775</td>\n",
       "      <td>1</td>\n",
       "      <td>...</td>\n",
       "      <td>139,1182</td>\n",
       "      <td>2</td>\n",
       "      <td>2</td>\n",
       "      <td>2</td>\n",
       "      <td>1,263866</td>\n",
       "      <td>2</td>\n",
       "      <td>974,2294</td>\n",
       "      <td>1</td>\n",
       "      <td>145,5524</td>\n",
       "      <td>Normal</td>\n",
       "    </tr>\n",
       "    <tr>\n",
       "      <th>449918</th>\n",
       "      <td>2</td>\n",
       "      <td>2</td>\n",
       "      <td>2</td>\n",
       "      <td>1,705315</td>\n",
       "      <td>2</td>\n",
       "      <td>14,8039</td>\n",
       "      <td>20,28619</td>\n",
       "      <td>1</td>\n",
       "      <td>957,7544</td>\n",
       "      <td>1</td>\n",
       "      <td>...</td>\n",
       "      <td>139,1182</td>\n",
       "      <td>2</td>\n",
       "      <td>2</td>\n",
       "      <td>2</td>\n",
       "      <td>1,272704</td>\n",
       "      <td>2</td>\n",
       "      <td>974,4296</td>\n",
       "      <td>1</td>\n",
       "      <td>145,5524</td>\n",
       "      <td>Normal</td>\n",
       "    </tr>\n",
       "  </tbody>\n",
       "</table>\n",
       "<p>449919 rows × 25 columns</p>\n",
       "</div>"
      ],
      "text/plain": [
       "        MV201  P201  UV401    FIT401  P302    AIT504   DPIT301  P602  \\\n",
       "0           2     1      2  1,713517     2  12,03538  19,74838     1   \n",
       "1           2     1      2  1,715952     2  12,03538  19,74838     1   \n",
       "2           2     1      2  1,715952     2  12,03538  19,69076     1   \n",
       "3           2     1      2   1,71467     2  12,03538  19,69076     1   \n",
       "4           2     1      2   1,71467     2  12,03538  19,69076     1   \n",
       "...       ...   ...    ...       ...   ...       ...       ...   ...   \n",
       "449914      2     2      2  1,705315     2   14,8039  20,39823     1   \n",
       "449915      2     2      2  1,705315     2   14,8039  20,39823     1   \n",
       "449916      2     2      2  1,706212     2   14,8039  20,33101     1   \n",
       "449917      2     2      2  1,706212     2   14,8039  20,29579     1   \n",
       "449918      2     2      2  1,705315     2   14,8039  20,28619     1   \n",
       "\n",
       "          LIT401  MV304  ...    AIT502 P205 MV302  MV101    FIT502 P501  \\\n",
       "0       942,0662      1  ...  145,1166    2     2      2  1,279621    2   \n",
       "1       942,0277      1  ...  145,1166    2     2      2  1,297554    2   \n",
       "2       941,8739      1  ...  145,1166    2     2      2  1,293967    2   \n",
       "3        941,797      1  ...  145,0141    2     2      2  1,281158    2   \n",
       "4         942,22      1  ...  144,8859    2     2      2  1,281158    2   \n",
       "...          ...    ...  ...       ...  ...   ...    ...       ...  ...   \n",
       "449914  956,8701      1  ...  139,1182    2     2      2  1,288971    2   \n",
       "449915  957,1777      1  ...  139,1182    2     2      2  1,272704    2   \n",
       "449916   957,293      1  ...  139,1182    2     2      2  1,269502    2   \n",
       "449917  957,6775      1  ...  139,1182    2     2      2  1,263866    2   \n",
       "449918  957,7544      1  ...  139,1182    2     2      2  1,272704    2   \n",
       "\n",
       "          LIT301  P102    AIT402 Normal/Attack  \n",
       "0       956,1651     1  156,0882        Normal  \n",
       "1       956,1651     1  156,0882        Normal  \n",
       "2       956,4855     1  156,0882        Normal  \n",
       "3        956,806     1  156,0882        Normal  \n",
       "4       957,0864     1  156,0882        Normal  \n",
       "...          ...   ...       ...           ...  \n",
       "449914  974,5498     1  145,6037        Normal  \n",
       "449915  974,5898     1  145,6037        Normal  \n",
       "449916  974,2695     1  145,5524        Normal  \n",
       "449917  974,2294     1  145,5524        Normal  \n",
       "449918  974,4296     1  145,5524        Normal  \n",
       "\n",
       "[449919 rows x 25 columns]"
      ]
     },
     "execution_count": 17,
     "metadata": {},
     "output_type": "execute_result"
    }
   ],
   "source": [
    "df_new"
   ]
  },
  {
   "cell_type": "code",
   "execution_count": 22,
   "id": "7663c416-d013-4b4e-bfd7-c06690c9e663",
   "metadata": {},
   "outputs": [],
   "source": [
    "num_cols = []\n",
    "\n",
    "for columns in df_new.columns:\n",
    "    if len(df_new[columns].unique())> 3:\n",
    "        num_cols += [columns]"
   ]
  },
  {
   "cell_type": "code",
   "execution_count": 64,
   "id": "7409286a-1359-4f0e-aa63-a21115414711",
   "metadata": {},
   "outputs": [],
   "source": [
    "for num_col in num_cols:\n",
    "    df_new[num_col] = df_new[num_col].str.replace(',', '.').astype('float')"
   ]
  },
  {
   "cell_type": "code",
   "execution_count": 78,
   "id": "c456ba03-b231-4a61-a0bf-85ff81c3e3d2",
   "metadata": {
    "tags": []
   },
   "outputs": [
    {
     "data": {
      "text/plain": [
       "MV201                0\n",
       "P201                 0\n",
       "UV401                0\n",
       "FIT401           16384\n",
       "P302                 0\n",
       "AIT504               0\n",
       "DPIT301              0\n",
       "P602                 0\n",
       "LIT401               0\n",
       "MV304                0\n",
       "P101                 0\n",
       "AIT202               0\n",
       "LIT101               0\n",
       "P203                 0\n",
       "MV303                0\n",
       "AIT502               0\n",
       "P205                 0\n",
       "MV302                0\n",
       "MV101                0\n",
       "FIT502               0\n",
       "P501                 0\n",
       "LIT301               0\n",
       "P102                 0\n",
       "AIT402               0\n",
       "Normal/Attack        0\n",
       "dtype: int64"
      ]
     },
     "execution_count": 78,
     "metadata": {},
     "output_type": "execute_result"
    }
   ],
   "source": [
    "df_new.isna().sum()"
   ]
  },
  {
   "cell_type": "code",
   "execution_count": 80,
   "id": "f314a689-52f4-460a-a59c-f01600a4297f",
   "metadata": {},
   "outputs": [
    {
     "data": {
      "text/plain": [
       "<AxesSubplot:>"
      ]
     },
     "execution_count": 80,
     "metadata": {},
     "output_type": "execute_result"
    },
    {
     "data": {
      "image/png": "[encoded data removed]",
      "text/plain": [
       "<Figure size 432x288 with 1 Axes>"
      ]
     },
     "metadata": {},
     "output_type": "display_data"
    }
   ],
   "source": [
    "df_new.FIT401.hist()"
   ]
  },
  {
   "cell_type": "code",
   "execution_count": 101,
   "id": "18e30215-0645-40fa-b200-59546c92f5ae",
   "metadata": {},
   "outputs": [
    {
     "name": "stdout",
     "output_type": "stream",
     "text": [
      "16384\n",
      "16384\n"
     ]
    }
   ],
   "source": [
    "#Как мы видим, в датасете пропущенные значения присутствуют только в колонке FIT401\n",
    "#Более того, все строки, которые в колонке FIT401 содержат пропущенное значение, имеют метку Attack\n",
    "\n",
    "print(len(df_new[df_new.FIT401.isna()]))\n",
    "print(len(df_new[df_new.FIT401.isna()]['Normal/Attack'] == 'Attack'))"
   ]
  },
  {
   "cell_type": "code",
   "execution_count": 116,
   "id": "50045bfc-60cf-4ea5-a5aa-59cb0ecd003b",
   "metadata": {},
   "outputs": [
    {
     "data": {
      "text/html": [
       "<div>\n",
       "<style scoped>\n",
       "    .dataframe tbody tr th:only-of-type {\n",
       "        vertical-align: middle;\n",
       "    }\n",
       "\n",
       "    .dataframe tbody tr th {\n",
       "        vertical-align: top;\n",
       "    }\n",
       "\n",
       "    .dataframe thead th {\n",
       "        text-align: right;\n",
       "    }\n",
       "</style>\n",
       "<table border=\"1\" class=\"dataframe\">\n",
       "  <thead>\n",
       "    <tr style=\"text-align: right;\">\n",
       "      <th>Normal/Attack</th>\n",
       "      <th>Attack</th>\n",
       "      <th>Normal</th>\n",
       "    </tr>\n",
       "  </thead>\n",
       "  <tbody>\n",
       "    <tr>\n",
       "      <th>FIT401</th>\n",
       "      <td>16374</td>\n",
       "      <td>104</td>\n",
       "    </tr>\n",
       "  </tbody>\n",
       "</table>\n",
       "</div>"
      ],
      "text/plain": [
       "Normal/Attack  Attack  Normal\n",
       "FIT401          16374     104"
      ]
     },
     "execution_count": 116,
     "metadata": {},
     "output_type": "execute_result"
    }
   ],
   "source": [
    "#Построив сводную таблицу, мы видим, что в случае когда FIT401 = 0, в подавляющм числе случаев это признак атаки\n",
    "\n",
    "pd.pivot_table(df_new[df_new.FIT401 == 0], values='FIT401',\n",
    "                    columns=['Normal/Attack'], aggfunc='count')"
   ]
  },
  {
   "cell_type": "code",
   "execution_count": 119,
   "id": "8586d66d-a0e7-4bcc-a66d-3acd762b0078",
   "metadata": {},
   "outputs": [
    {
     "data": {
      "text/html": [
       "<div>\n",
       "<style scoped>\n",
       "    .dataframe tbody tr th:only-of-type {\n",
       "        vertical-align: middle;\n",
       "    }\n",
       "\n",
       "    .dataframe tbody tr th {\n",
       "        vertical-align: top;\n",
       "    }\n",
       "\n",
       "    .dataframe thead th {\n",
       "        text-align: right;\n",
       "    }\n",
       "</style>\n",
       "<table border=\"1\" class=\"dataframe\">\n",
       "  <thead>\n",
       "    <tr style=\"text-align: right;\">\n",
       "      <th>Normal/Attack</th>\n",
       "      <th>Attack</th>\n",
       "      <th>Normal</th>\n",
       "    </tr>\n",
       "  </thead>\n",
       "  <tbody>\n",
       "    <tr>\n",
       "      <th>FIT401</th>\n",
       "      <td>21863</td>\n",
       "      <td>395194</td>\n",
       "    </tr>\n",
       "  </tbody>\n",
       "</table>\n",
       "</div>"
      ],
      "text/plain": [
       "Normal/Attack  Attack  Normal\n",
       "FIT401          21863  395194"
      ]
     },
     "execution_count": 119,
     "metadata": {},
     "output_type": "execute_result"
    }
   ],
   "source": [
    "#А в случаях, когда FIT401 больше 0, в большинстве своем наблюдения имеют метку Normal\n",
    "\n",
    "pd.pivot_table(df_new[df_new.FIT401 > 0], values='FIT401',\n",
    "                    columns=['Normal/Attack'], aggfunc='count')"
   ]
  },
  {
   "cell_type": "code",
   "execution_count": 121,
   "id": "d6418a4e-0cbb-442a-89b4-3a4789d4999d",
   "metadata": {},
   "outputs": [],
   "source": [
    "#Исходя из вышесказанного, попробем заменить все пропущенные значения FIT401 на 0\n",
    "\n",
    "df_new['FIT401'] = df_new['FIT401'].fillna(0)"
   ]
  },
  {
   "cell_type": "code",
   "execution_count": 122,
   "id": "0590878e-5dad-45e5-97db-9a5591cdcb2f",
   "metadata": {},
   "outputs": [
    {
     "name": "stdout",
     "output_type": "stream",
     "text": [
      "54621\n",
      "395298\n"
     ]
    }
   ],
   "source": [
    "#посчитаем сколько строк с меткой Normal и Attack\n",
    "\n",
    "print(len(df_new[df_new['Normal/Attack'] == 'Attack']))\n",
    "print(len(df_new[df_new['Normal/Attack'] == 'Normal']))"
   ]
  },
  {
   "cell_type": "code",
   "execution_count": 129,
   "id": "e3539d4f-92ee-45f4-873d-ef4d82c5690b",
   "metadata": {},
   "outputs": [],
   "source": [
    "#Заменим в нашей целевой переменной метки Normal = 0, Attack = 1\n",
    "\n",
    "df_new['Normal/Attack'] = df_new['Normal/Attack'].replace('Normal', 0)\n",
    "df_new['Normal/Attack'] = df_new['Normal/Attack'].replace('Attack', 1)"
   ]
  },
  {
   "cell_type": "code",
   "execution_count": 130,
   "id": "e54e4b05-1c6e-4bda-9d5d-ed213148493e",
   "metadata": {
    "tags": []
   },
   "outputs": [
    {
     "name": "stderr",
     "output_type": "stream",
     "text": [
      "X:\\anaconda\\lib\\site-packages\\pandas\\core\\indexing.py:1835: SettingWithCopyWarning: \n",
      "A value is trying to be set on a copy of a slice from a DataFrame.\n",
      "Try using .loc[row_indexer,col_indexer] = value instead\n",
      "\n",
      "See the caveats in the documentation: https://pandas.pydata.org/pandas-docs/stable/user_guide/indexing.html#returning-a-view-versus-a-copy\n",
      "  self._setitem_single_column(loc, value[:, i].tolist(), pi)\n"
     ]
    }
   ],
   "source": [
    "X = df_new.drop('Normal/Attack', axis=1)\n",
    "y = df_new['Normal/Attack']\n",
    "\n",
    "X_train, X_test, y_train, y_test = train_test_split(X, y, test_size=0.1)\n",
    "\n",
    "scaler  = MinMaxScaler()\n",
    "scaler.fit_transform(X_train)\n",
    "\n",
    "X_train_scaled = scaler.transform(X_train) \n",
    "X_test_scaled  = scaler.transform(X_test)\n",
    "\n",
    "X_train.iloc[:, :] = X_train_scaled\n",
    "X_test.iloc[:, :] = X_test_scaled"
   ]
  },
  {
   "cell_type": "code",
   "execution_count": 131,
   "id": "77b55cb1-a055-4beb-9528-6f13b43dd9c6",
   "metadata": {},
   "outputs": [
    {
     "data": {
      "text/plain": [
       "LogisticRegression(C=1.66, max_iter=100000, penalty='l1', solver='saga')"
      ]
     },
     "execution_count": 131,
     "metadata": {},
     "output_type": "execute_result"
    }
   ],
   "source": [
    "#@title Логистическая Регрессия{ run: \"auto\" }\n",
    "#@markdown ### Тип Регуляризации \n",
    "penalty= 'l1' #@param [ \"l2\" , \"l1\", \"none\"]{type:\"string\"}\n",
    "#@markdown ### Константа Регуларизации\n",
    "regularization = 1.66 #@param {type:\"slider\", min:0.01, max:3, step:0.05}\n",
    "\n",
    "\n",
    "\n",
    "LogReg = LogisticRegression(fit_intercept=True,\n",
    "                            penalty=penalty,solver='saga',\n",
    "                            C=regularization,\n",
    "                            max_iter=100000)\n",
    "\n",
    "LogReg.fit(X_train, y_train)"
   ]
  },
  {
   "cell_type": "code",
   "execution_count": 132,
   "id": "bdd8b046-2de7-4bba-986c-05c018718e27",
   "metadata": {},
   "outputs": [
    {
     "name": "stdout",
     "output_type": "stream",
     "text": [
      "test error\n",
      "ACC: 0.9653\n",
      "F1 : 0.8320\n"
     ]
    }
   ],
   "source": [
    "y_predict=LogReg.predict(X_test)\n",
    "\n",
    "print('test error')\n",
    "print('ACC: %.4f' % acc(y_predict,y_test))\n",
    "print('F1 : %.4f' %  f1(y_predict,y_test,average='binary'))"
   ]
  },
  {
   "cell_type": "code",
   "execution_count": null,
   "id": "df312762-931d-483b-a0ec-5e625f1c0a79",
   "metadata": {},
   "outputs": [],
   "source": []
  }
 ],
 "metadata": {
  "kernelspec": {
   "display_name": "Python 3 (ipykernel)",
   "language": "python",
   "name": "python3"
  },
  "language_info": {
   "codemirror_mode": {
    "name": "ipython",
    "version": 3
   },
   "file_extension": ".py",
   "mimetype": "text/x-python",
   "name": "python",
   "nbconvert_exporter": "python",
   "pygments_lexer": "ipython3",
   "version": "3.9.7"
  }
 },
 "nbformat": 4,
 "nbformat_minor": 5
}
