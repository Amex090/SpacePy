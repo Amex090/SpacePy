{
  "cells": [
    {
      "cell_type": "code",
      "execution_count": 37,
      "id": "cc8e8d5a-2c64-4a9b-a316-830cd9bdea59",
      "metadata": {
        "id": "cc8e8d5a-2c64-4a9b-a316-830cd9bdea59"
      },
      "outputs": [],
      "source": [
        "import pandas as pd\n",
        "import numpy as np\n",
        "import matplotlib.pyplot as plt \n",
        "import seaborn as sns; sns.set()\n",
        "from sklearn.metrics import roc_curve\n",
        "from sklearn.metrics import roc_auc_score\n",
        "from sklearn.metrics import mean_squared_error as mse\n",
        "from sklearn.metrics import r2_score\n",
        "from sklearn.model_selection import train_test_split\n",
        "from sklearn.model_selection import ShuffleSplit\n",
        "from sklearn.model_selection import cross_validate\n",
        "from sklearn.preprocessing import MinMaxScaler\n",
        "from sklearn.linear_model import Ridge\n",
        "from sklearn.model_selection import cross_val_score\n",
        "from sklearn.linear_model import LogisticRegression\n",
        "from sklearn.metrics import classification_report\n",
        "from sklearn.model_selection import StratifiedKFold\n",
        "from sklearn.metrics import confusion_matrix\n",
        "from sklearn.metrics import accuracy_score as acc\n",
        "from sklearn.metrics import f1_score as f1"
      ]
    },
    {
      "cell_type": "markdown",
      "source": [
        "*Импортируем датасет преобразованный в.csv*"
      ],
      "metadata": {
        "id": "H8rGzGb6CenA"
      },
      "id": "H8rGzGb6CenA"
    },
    {
      "cell_type": "code",
      "execution_count": null,
      "id": "854676d2-20b1-4a9f-9b65-6cabde91d151",
      "metadata": {
        "id": "854676d2-20b1-4a9f-9b65-6cabde91d151"
      },
      "outputs": [],
      "source": [
        "!wget https://www.dropbox.com/s/bw7vcwdse226vr4/data.csv"
      ]
    },
    {
      "cell_type": "code",
      "source": [
        "df = pd.read_csv('data.csv',sep=';')"
      ],
      "metadata": {
        "colab": {
          "base_uri": "https://localhost:8080/"
        },
        "id": "PA2HCMOTIUfp",
        "outputId": "14745a70-baaf-40bd-e3a4-fc23cc558669"
      },
      "id": "PA2HCMOTIUfp",
      "execution_count": 8,
      "outputs": [
        {
          "output_type": "stream",
          "name": "stderr",
          "text": [
            "/usr/local/lib/python3.7/dist-packages/IPython/core/interactiveshell.py:2882: DtypeWarning: Columns (1,9,28,46) have mixed types.Specify dtype option on import or set low_memory=False.\n",
            "  exec(code_obj, self.user_global_ns, self.user_ns)\n"
          ]
        }
      ]
    },
    {
      "cell_type": "code",
      "execution_count": 9,
      "id": "cd235fef-5118-4f99-9bac-2656f1cd4c1c",
      "metadata": {
        "id": "cd235fef-5118-4f99-9bac-2656f1cd4c1c"
      },
      "outputs": [],
      "source": [
        "#удаляем лишние пробелы из названия колонок\n",
        "\n",
        "df.columns = df.columns.str.replace(' ', '')"
      ]
    },
    {
      "cell_type": "markdown",
      "id": "638c8e99-621f-472e-8454-5e57896cda6a",
      "metadata": {
        "tags": [],
        "id": "638c8e99-621f-472e-8454-5e57896cda6a"
      },
      "source": [
        "ОПРЕДЕЛЯЕМ ОСНОВНЫЕ ДАТЧИКИ, КОТОРЫЕ ПОДВЕРГАЮТСЯ АТАКАМ"
      ]
    },
    {
      "cell_type": "markdown",
      "source": [
        "#Загружаем файл со списком атак "
      ],
      "metadata": {
        "id": "EZxLGms1NfVN"
      },
      "id": "EZxLGms1NfVN"
    },
    {
      "cell_type": "code",
      "source": [
        "!wget https://www.dropbox.com/s/ric1yxd389ypv67/List_of_attacks_Final.xlsx"
      ],
      "metadata": {
        "colab": {
          "base_uri": "https://localhost:8080/"
        },
        "id": "SMAeDP7HOCE-",
        "outputId": "4fb5b0ae-200e-466e-da74-c8a10f1736b8"
      },
      "id": "SMAeDP7HOCE-",
      "execution_count": 11,
      "outputs": [
        {
          "output_type": "stream",
          "name": "stdout",
          "text": [
            "--2022-05-18 22:16:18--  https://www.dropbox.com/s/ric1yxd389ypv67/List_of_attacks_Final.xlsx\n",
            "Resolving www.dropbox.com (www.dropbox.com)... 162.125.9.18, 2620:100:601b:18::a27d:812\n",
            "Connecting to www.dropbox.com (www.dropbox.com)|162.125.9.18|:443... connected.\n",
            "HTTP request sent, awaiting response... 301 Moved Permanently\n",
            "Location: /s/raw/ric1yxd389ypv67/List_of_attacks_Final.xlsx [following]\n",
            "--2022-05-18 22:16:19--  https://www.dropbox.com/s/raw/ric1yxd389ypv67/List_of_attacks_Final.xlsx\n",
            "Reusing existing connection to www.dropbox.com:443.\n",
            "HTTP request sent, awaiting response... 302 Found\n",
            "Location: https://ucce14c7abc4dacc26b76f8c20b0.dl.dropboxusercontent.com/cd/0/inline/BliYNJmdUhV4GXD4wLnKYMYx9Vu99DEsrh0K8NqmxFJfWjZn3JNmkj_cex0miD911AT36IQScH3GNklEsZPk6YaYAM9lHa3mfS5hzpiLNqKnq7RVXQDGx1aJpVNMtNM7Tcp7oFXeMNn4B4nAlYa_3Y-aYKottKtZvftiCf9TnypRaA/file# [following]\n",
            "--2022-05-18 22:16:19--  https://ucce14c7abc4dacc26b76f8c20b0.dl.dropboxusercontent.com/cd/0/inline/BliYNJmdUhV4GXD4wLnKYMYx9Vu99DEsrh0K8NqmxFJfWjZn3JNmkj_cex0miD911AT36IQScH3GNklEsZPk6YaYAM9lHa3mfS5hzpiLNqKnq7RVXQDGx1aJpVNMtNM7Tcp7oFXeMNn4B4nAlYa_3Y-aYKottKtZvftiCf9TnypRaA/file\n",
            "Resolving ucce14c7abc4dacc26b76f8c20b0.dl.dropboxusercontent.com (ucce14c7abc4dacc26b76f8c20b0.dl.dropboxusercontent.com)... 162.125.8.15, 2620:100:601b:15::a27d:80f\n",
            "Connecting to ucce14c7abc4dacc26b76f8c20b0.dl.dropboxusercontent.com (ucce14c7abc4dacc26b76f8c20b0.dl.dropboxusercontent.com)|162.125.8.15|:443... connected.\n",
            "HTTP request sent, awaiting response... 302 Found\n",
            "Location: /cd/0/inline2/BljCgZXQLdOUG9f0U7zBXyDL6aQx_z7pT-l7z3CHd0Lt4U8ZQJ2PjH-QNlqxyTFGlW3P2mr4H0tS0P0zNyNTx-EShKVvfF5tA0e1Lp64BIRkqtXgHoIcLfoX8StVpWzJwAwEAjJat6ihTl9-11FKNP3b3L0RM_2FCLd7BEnehRws4CpQ6lo2XqWN7HGEBnhWRfGCZasmHu6lNLWNEu6dZ_cui6q4aZG6YdMc0SdCpL3kowqz-lm2KEH96RtX-jZAg87i_tA6cxMb_R-i_qKpPUTE7FRBsoUSLFkbGJ3ZPcO-dD9yZneI2um2BNp5U18HlFVElqFwBRtzGbo-Xu9xZ_t94AtBdtzmOQDMIsliwgll6nyoGj2AjJ-uozCfbYbTrPSlSkQrNSc6LZGuUGOEyLOFFJ7qJe-VloqqQPE0HvBn7w/file [following]\n",
            "--2022-05-18 22:16:19--  https://ucce14c7abc4dacc26b76f8c20b0.dl.dropboxusercontent.com/cd/0/inline2/BljCgZXQLdOUG9f0U7zBXyDL6aQx_z7pT-l7z3CHd0Lt4U8ZQJ2PjH-QNlqxyTFGlW3P2mr4H0tS0P0zNyNTx-EShKVvfF5tA0e1Lp64BIRkqtXgHoIcLfoX8StVpWzJwAwEAjJat6ihTl9-11FKNP3b3L0RM_2FCLd7BEnehRws4CpQ6lo2XqWN7HGEBnhWRfGCZasmHu6lNLWNEu6dZ_cui6q4aZG6YdMc0SdCpL3kowqz-lm2KEH96RtX-jZAg87i_tA6cxMb_R-i_qKpPUTE7FRBsoUSLFkbGJ3ZPcO-dD9yZneI2um2BNp5U18HlFVElqFwBRtzGbo-Xu9xZ_t94AtBdtzmOQDMIsliwgll6nyoGj2AjJ-uozCfbYbTrPSlSkQrNSc6LZGuUGOEyLOFFJ7qJe-VloqqQPE0HvBn7w/file\n",
            "Reusing existing connection to ucce14c7abc4dacc26b76f8c20b0.dl.dropboxusercontent.com:443.\n",
            "HTTP request sent, awaiting response... 200 OK\n",
            "Length: 15258 (15K) [application/vnd.openxmlformats-officedocument.spreadsheetml.sheet]\n",
            "Saving to: ‘List_of_attacks_Final.xlsx’\n",
            "\n",
            "List_of_attacks_Fin 100%[===================>]  14.90K  --.-KB/s    in 0s      \n",
            "\n",
            "2022-05-18 22:16:19 (289 MB/s) - ‘List_of_attacks_Final.xlsx’ saved [15258/15258]\n",
            "\n"
          ]
        }
      ]
    },
    {
      "cell_type": "code",
      "execution_count": 12,
      "id": "7bf6423a-b955-4fae-be79-37e088f8b02e",
      "metadata": {
        "id": "7bf6423a-b955-4fae-be79-37e088f8b02e"
      },
      "outputs": [],
      "source": [
        "#Чтение файла\n",
        "\n",
        "df2 = pd.read_excel('List_of_attacks_Final.xlsx')\n",
        "df2 = df2.drop(df2[df2['Attack Point'].isna() == True].index)"
      ]
    },
    {
      "cell_type": "code",
      "execution_count": 13,
      "id": "45582043-9bb9-482a-a8a5-838138afa175",
      "metadata": {
        "id": "45582043-9bb9-482a-a8a5-838138afa175"
      },
      "outputs": [],
      "source": [
        "#Удаляем строки No Physical Impact Attack\n",
        "\n",
        "df2 = df2.drop(df2[df2['Attack Point'] == 'No Physical Impact Attack'].index)"
      ]
    },
    {
      "cell_type": "code",
      "execution_count": 14,
      "id": "8db8409c-d9e3-42a1-b2a4-9c47321529fb",
      "metadata": {
        "colab": {
          "base_uri": "https://localhost:8080/"
        },
        "id": "8db8409c-d9e3-42a1-b2a4-9c47321529fb",
        "outputId": "d0add4db-44aa-402c-f971-4cd5767829c5"
      },
      "outputs": [
        {
          "output_type": "stream",
          "name": "stdout",
          "text": [
            "количество датчиков, которые подвергаются атакам 28\n",
            "\n",
            "Список датчиков\n",
            "['MV-101' 'P-102' 'LIT-101' 'MV-504' 'AIT-202' 'LIT-301' 'DPIT-301'\n",
            " 'FIT-401' 'MV-304' 'Mv-303' 'MV-303' 'AIT-504' 'MV-101, LIT-101'\n",
            " 'UV-401, AIT-502, P-501' 'P-602, DIT-301, MV-302' 'P-203, P-205'\n",
            " 'LIT-401, P-401' 'P-101, LIT-301' 'P-302, LIT-401' 'P-302'\n",
            " 'P-201, P-203, P-205' 'LIT-101, P-101, MV-201' 'LIT-401' 'P-101'\n",
            " 'P-101; P-102' 'P-501, FIT-502' 'AIT-402, AIT-502' 'FIT-401, AIT-502']\n"
          ]
        }
      ],
      "source": [
        "#Получаем список уникальных значений из колонки Attack Point\n",
        "\n",
        "print(\"количество датчиков, которые подвергаются атакам\", len(df2['Attack Point'].unique()))\n",
        "print()\n",
        "print(\"Список датчиков\")\n",
        "print(df2['Attack Point'].unique())"
      ]
    },
    {
      "cell_type": "markdown",
      "source": [
        "*Совмещаем значения по пробелу и добавляем в новый чистый список*"
      ],
      "metadata": {
        "id": "O_4IGtFSYxoq"
      },
      "id": "O_4IGtFSYxoq"
    },
    {
      "cell_type": "code",
      "execution_count": 15,
      "id": "e5a3b6a8-5f1b-4c40-af3c-9489b02fdc14",
      "metadata": {
        "id": "e5a3b6a8-5f1b-4c40-af3c-9489b02fdc14"
      },
      "outputs": [],
      "source": [
        "\n",
        "features = []\n",
        "\n",
        "for col in df2['Attack Point'].unique():\n",
        "    features += col.split(', ')\n",
        "\n",
        "#уберем символ \"-\" из названия фичей и сделаем все буквы заглавными\n",
        "\n",
        "for i in range(len(features)):\n",
        "    features[i] = features[i].replace('-', \"\")\n",
        "    features[i] = features[i].upper()\n",
        "    \n",
        "features = list(set(features))"
      ]
    },
    {
      "cell_type": "code",
      "execution_count": 16,
      "id": "dbacd317-4d15-4e7a-808d-9492f86868fe",
      "metadata": {
        "id": "dbacd317-4d15-4e7a-808d-9492f86868fe"
      },
      "outputs": [],
      "source": [
        "#удалим фичи которых нет в тренировочном наборе данных\n",
        "\n",
        "for i in features:\n",
        "    if i not in df.columns:\n",
        "        features.remove(i)"
      ]
    },
    {
      "cell_type": "code",
      "execution_count": 17,
      "id": "0a3752b1-175b-4723-adeb-94c81aa21e5c",
      "metadata": {
        "id": "0a3752b1-175b-4723-adeb-94c81aa21e5c"
      },
      "outputs": [],
      "source": [
        "#создадим новый датафрейм в котором будут только фичи из списка features\n",
        "\n",
        "df_new = pd.DataFrame()\n",
        "\n",
        "for colname in features:\n",
        "    df_new[colname] = df[colname].copy()"
      ]
    },
    {
      "cell_type": "code",
      "execution_count": 18,
      "id": "fb5bd731-9606-43eb-b30a-de9b036168a8",
      "metadata": {
        "tags": [],
        "colab": {
          "base_uri": "https://localhost:8080/",
          "height": 235
        },
        "id": "fb5bd731-9606-43eb-b30a-de9b036168a8",
        "outputId": "058388bf-7b1e-4234-b624-3251c023f0ce"
      },
      "outputs": [
        {
          "output_type": "execute_result",
          "data": {
            "text/plain": [
              "     LIT101    FIT502    LIT301  P203    LIT401   DPIT301  P401  MV101  MV303  \\\n",
              "0  522,8467  1,279621  956,1651     2  942,0662  19,74838     1      2      1   \n",
              "1   522,886  1,297554  956,1651     2  942,0277  19,74838     1      2      1   \n",
              "2  522,8467  1,293967  956,4855     2  941,8739  19,69076     1      2      1   \n",
              "3  522,9645  1,281158   956,806     2   941,797  19,69076     1      2      1   \n",
              "4  523,4748  1,281158  957,0864     2    942,22  19,69076     1      2      1   \n",
              "\n",
              "   MV201  ... MV304  P501 P302    AIT504    AIT402  P102  P201  P205  MV302  \\\n",
              "0      2  ...     1     2    2  12,03538  156,0882     1     1     2      2   \n",
              "1      2  ...     1     2    2  12,03538  156,0882     1     1     2      2   \n",
              "2      2  ...     1     2    2  12,03538  156,0882     1     1     2      2   \n",
              "3      2  ...     1     2    2  12,03538  156,0882     1     1     2      2   \n",
              "4      2  ...     1     2    2  12,03538  156,0882     1     1     2      2   \n",
              "\n",
              "  Normal/Attack  \n",
              "0        Normal  \n",
              "1        Normal  \n",
              "2        Normal  \n",
              "3        Normal  \n",
              "4        Normal  \n",
              "\n",
              "[5 rows x 26 columns]"
            ],
            "text/html": [
              "\n",
              "  <div id=\"df-e98de60f-01ee-40bb-b109-b5e0bb4c96d0\">\n",
              "    <div class=\"colab-df-container\">\n",
              "      <div>\n",
              "<style scoped>\n",
              "    .dataframe tbody tr th:only-of-type {\n",
              "        vertical-align: middle;\n",
              "    }\n",
              "\n",
              "    .dataframe tbody tr th {\n",
              "        vertical-align: top;\n",
              "    }\n",
              "\n",
              "    .dataframe thead th {\n",
              "        text-align: right;\n",
              "    }\n",
              "</style>\n",
              "<table border=\"1\" class=\"dataframe\">\n",
              "  <thead>\n",
              "    <tr style=\"text-align: right;\">\n",
              "      <th></th>\n",
              "      <th>LIT101</th>\n",
              "      <th>FIT502</th>\n",
              "      <th>LIT301</th>\n",
              "      <th>P203</th>\n",
              "      <th>LIT401</th>\n",
              "      <th>DPIT301</th>\n",
              "      <th>P401</th>\n",
              "      <th>MV101</th>\n",
              "      <th>MV303</th>\n",
              "      <th>MV201</th>\n",
              "      <th>...</th>\n",
              "      <th>MV304</th>\n",
              "      <th>P501</th>\n",
              "      <th>P302</th>\n",
              "      <th>AIT504</th>\n",
              "      <th>AIT402</th>\n",
              "      <th>P102</th>\n",
              "      <th>P201</th>\n",
              "      <th>P205</th>\n",
              "      <th>MV302</th>\n",
              "      <th>Normal/Attack</th>\n",
              "    </tr>\n",
              "  </thead>\n",
              "  <tbody>\n",
              "    <tr>\n",
              "      <th>0</th>\n",
              "      <td>522,8467</td>\n",
              "      <td>1,279621</td>\n",
              "      <td>956,1651</td>\n",
              "      <td>2</td>\n",
              "      <td>942,0662</td>\n",
              "      <td>19,74838</td>\n",
              "      <td>1</td>\n",
              "      <td>2</td>\n",
              "      <td>1</td>\n",
              "      <td>2</td>\n",
              "      <td>...</td>\n",
              "      <td>1</td>\n",
              "      <td>2</td>\n",
              "      <td>2</td>\n",
              "      <td>12,03538</td>\n",
              "      <td>156,0882</td>\n",
              "      <td>1</td>\n",
              "      <td>1</td>\n",
              "      <td>2</td>\n",
              "      <td>2</td>\n",
              "      <td>Normal</td>\n",
              "    </tr>\n",
              "    <tr>\n",
              "      <th>1</th>\n",
              "      <td>522,886</td>\n",
              "      <td>1,297554</td>\n",
              "      <td>956,1651</td>\n",
              "      <td>2</td>\n",
              "      <td>942,0277</td>\n",
              "      <td>19,74838</td>\n",
              "      <td>1</td>\n",
              "      <td>2</td>\n",
              "      <td>1</td>\n",
              "      <td>2</td>\n",
              "      <td>...</td>\n",
              "      <td>1</td>\n",
              "      <td>2</td>\n",
              "      <td>2</td>\n",
              "      <td>12,03538</td>\n",
              "      <td>156,0882</td>\n",
              "      <td>1</td>\n",
              "      <td>1</td>\n",
              "      <td>2</td>\n",
              "      <td>2</td>\n",
              "      <td>Normal</td>\n",
              "    </tr>\n",
              "    <tr>\n",
              "      <th>2</th>\n",
              "      <td>522,8467</td>\n",
              "      <td>1,293967</td>\n",
              "      <td>956,4855</td>\n",
              "      <td>2</td>\n",
              "      <td>941,8739</td>\n",
              "      <td>19,69076</td>\n",
              "      <td>1</td>\n",
              "      <td>2</td>\n",
              "      <td>1</td>\n",
              "      <td>2</td>\n",
              "      <td>...</td>\n",
              "      <td>1</td>\n",
              "      <td>2</td>\n",
              "      <td>2</td>\n",
              "      <td>12,03538</td>\n",
              "      <td>156,0882</td>\n",
              "      <td>1</td>\n",
              "      <td>1</td>\n",
              "      <td>2</td>\n",
              "      <td>2</td>\n",
              "      <td>Normal</td>\n",
              "    </tr>\n",
              "    <tr>\n",
              "      <th>3</th>\n",
              "      <td>522,9645</td>\n",
              "      <td>1,281158</td>\n",
              "      <td>956,806</td>\n",
              "      <td>2</td>\n",
              "      <td>941,797</td>\n",
              "      <td>19,69076</td>\n",
              "      <td>1</td>\n",
              "      <td>2</td>\n",
              "      <td>1</td>\n",
              "      <td>2</td>\n",
              "      <td>...</td>\n",
              "      <td>1</td>\n",
              "      <td>2</td>\n",
              "      <td>2</td>\n",
              "      <td>12,03538</td>\n",
              "      <td>156,0882</td>\n",
              "      <td>1</td>\n",
              "      <td>1</td>\n",
              "      <td>2</td>\n",
              "      <td>2</td>\n",
              "      <td>Normal</td>\n",
              "    </tr>\n",
              "    <tr>\n",
              "      <th>4</th>\n",
              "      <td>523,4748</td>\n",
              "      <td>1,281158</td>\n",
              "      <td>957,0864</td>\n",
              "      <td>2</td>\n",
              "      <td>942,22</td>\n",
              "      <td>19,69076</td>\n",
              "      <td>1</td>\n",
              "      <td>2</td>\n",
              "      <td>1</td>\n",
              "      <td>2</td>\n",
              "      <td>...</td>\n",
              "      <td>1</td>\n",
              "      <td>2</td>\n",
              "      <td>2</td>\n",
              "      <td>12,03538</td>\n",
              "      <td>156,0882</td>\n",
              "      <td>1</td>\n",
              "      <td>1</td>\n",
              "      <td>2</td>\n",
              "      <td>2</td>\n",
              "      <td>Normal</td>\n",
              "    </tr>\n",
              "  </tbody>\n",
              "</table>\n",
              "<p>5 rows × 26 columns</p>\n",
              "</div>\n",
              "      <button class=\"colab-df-convert\" onclick=\"convertToInteractive('df-e98de60f-01ee-40bb-b109-b5e0bb4c96d0')\"\n",
              "              title=\"Convert this dataframe to an interactive table.\"\n",
              "              style=\"display:none;\">\n",
              "        \n",
              "  <svg xmlns=\"http://www.w3.org/2000/svg\" height=\"24px\"viewBox=\"0 0 24 24\"\n",
              "       width=\"24px\">\n",
              "    <path d=\"M0 0h24v24H0V0z\" fill=\"none\"/>\n",
              "    <path d=\"M18.56 5.44l.94 2.06.94-2.06 2.06-.94-2.06-.94-.94-2.06-.94 2.06-2.06.94zm-11 1L8.5 8.5l.94-2.06 2.06-.94-2.06-.94L8.5 2.5l-.94 2.06-2.06.94zm10 10l.94 2.06.94-2.06 2.06-.94-2.06-.94-.94-2.06-.94 2.06-2.06.94z\"/><path d=\"M17.41 7.96l-1.37-1.37c-.4-.4-.92-.59-1.43-.59-.52 0-1.04.2-1.43.59L10.3 9.45l-7.72 7.72c-.78.78-.78 2.05 0 2.83L4 21.41c.39.39.9.59 1.41.59.51 0 1.02-.2 1.41-.59l7.78-7.78 2.81-2.81c.8-.78.8-2.07 0-2.86zM5.41 20L4 18.59l7.72-7.72 1.47 1.35L5.41 20z\"/>\n",
              "  </svg>\n",
              "      </button>\n",
              "      \n",
              "  <style>\n",
              "    .colab-df-container {\n",
              "      display:flex;\n",
              "      flex-wrap:wrap;\n",
              "      gap: 12px;\n",
              "    }\n",
              "\n",
              "    .colab-df-convert {\n",
              "      background-color: #E8F0FE;\n",
              "      border: none;\n",
              "      border-radius: 50%;\n",
              "      cursor: pointer;\n",
              "      display: none;\n",
              "      fill: #1967D2;\n",
              "      height: 32px;\n",
              "      padding: 0 0 0 0;\n",
              "      width: 32px;\n",
              "    }\n",
              "\n",
              "    .colab-df-convert:hover {\n",
              "      background-color: #E2EBFA;\n",
              "      box-shadow: 0px 1px 2px rgba(60, 64, 67, 0.3), 0px 1px 3px 1px rgba(60, 64, 67, 0.15);\n",
              "      fill: #174EA6;\n",
              "    }\n",
              "\n",
              "    [theme=dark] .colab-df-convert {\n",
              "      background-color: #3B4455;\n",
              "      fill: #D2E3FC;\n",
              "    }\n",
              "\n",
              "    [theme=dark] .colab-df-convert:hover {\n",
              "      background-color: #434B5C;\n",
              "      box-shadow: 0px 1px 3px 1px rgba(0, 0, 0, 0.15);\n",
              "      filter: drop-shadow(0px 1px 2px rgba(0, 0, 0, 0.3));\n",
              "      fill: #FFFFFF;\n",
              "    }\n",
              "  </style>\n",
              "\n",
              "      <script>\n",
              "        const buttonEl =\n",
              "          document.querySelector('#df-e98de60f-01ee-40bb-b109-b5e0bb4c96d0 button.colab-df-convert');\n",
              "        buttonEl.style.display =\n",
              "          google.colab.kernel.accessAllowed ? 'block' : 'none';\n",
              "\n",
              "        async function convertToInteractive(key) {\n",
              "          const element = document.querySelector('#df-e98de60f-01ee-40bb-b109-b5e0bb4c96d0');\n",
              "          const dataTable =\n",
              "            await google.colab.kernel.invokeFunction('convertToInteractive',\n",
              "                                                     [key], {});\n",
              "          if (!dataTable) return;\n",
              "\n",
              "          const docLinkHtml = 'Like what you see? Visit the ' +\n",
              "            '<a target=\"_blank\" href=https://colab.research.google.com/notebooks/data_table.ipynb>data table notebook</a>'\n",
              "            + ' to learn more about interactive tables.';\n",
              "          element.innerHTML = '';\n",
              "          dataTable['output_type'] = 'display_data';\n",
              "          await google.colab.output.renderOutput(dataTable, element);\n",
              "          const docLink = document.createElement('div');\n",
              "          docLink.innerHTML = docLinkHtml;\n",
              "          element.appendChild(docLink);\n",
              "        }\n",
              "      </script>\n",
              "    </div>\n",
              "  </div>\n",
              "  "
            ]
          },
          "metadata": {},
          "execution_count": 18
        }
      ],
      "source": [
        "#Добавим к датасету целевую переменную, чтобы в случае удаления лишних строк, длины тренировочного набора и серия с меткой совпали\n",
        "\n",
        "df_new['Normal/Attack'] = df['Normal/Attack'].copy()\n",
        "df_new.head(5)"
      ]
    },
    {
      "cell_type": "code",
      "execution_count": 19,
      "id": "7f43bc07-ff43-4bd6-b3a1-b2a77d8c385a",
      "metadata": {
        "colab": {
          "base_uri": "https://localhost:8080/"
        },
        "id": "7f43bc07-ff43-4bd6-b3a1-b2a77d8c385a",
        "outputId": "043d12dc-63c0-4e43-eb10-a1eac47d8a03"
      },
      "outputs": [
        {
          "output_type": "execute_result",
          "data": {
            "text/plain": [
              "Index(['LIT101', 'FIT502', 'LIT301', 'P203', 'LIT401', 'DPIT301', 'P401',\n",
              "       'MV101', 'MV303', 'MV201', 'FIT401', 'UV401', 'AIT502', 'P602',\n",
              "       'AIT202', 'P101', 'MV304', 'P501', 'P302', 'AIT504', 'AIT402', 'P102',\n",
              "       'P201', 'P205', 'MV302', 'Normal/Attack'],\n",
              "      dtype='object')"
            ]
          },
          "metadata": {},
          "execution_count": 19
        }
      ],
      "source": [
        "df_new.columns"
      ]
    },
    {
      "cell_type": "code",
      "execution_count": 20,
      "id": "d8d8810b-cedb-4723-9ec9-29931c7dd694",
      "metadata": {
        "id": "d8d8810b-cedb-4723-9ec9-29931c7dd694"
      },
      "outputs": [],
      "source": [
        "#Убираем лишние пробелы из значений целевой переменной\n",
        "\n",
        "df_new['Normal/Attack'] = df_new['Normal/Attack'].str.replace(' ', \"\")"
      ]
    },
    {
      "cell_type": "code",
      "execution_count": 21,
      "id": "aaf966e5-f997-4cf1-8476-b1d1df511b13",
      "metadata": {
        "colab": {
          "base_uri": "https://localhost:8080/"
        },
        "id": "aaf966e5-f997-4cf1-8476-b1d1df511b13",
        "outputId": "0d6abe98-31fa-4327-da4c-819be4a75c3f"
      },
      "outputs": [
        {
          "output_type": "stream",
          "name": "stdout",
          "text": [
            "P401\n"
          ]
        }
      ],
      "source": [
        "unique_values = []\n",
        "\n",
        "for column in df_new.columns:\n",
        "    if len(df_new[column].unique()) < 2:\n",
        "        df_new = df_new.drop(column, axis=1)\n",
        "        print(column)"
      ]
    },
    {
      "cell_type": "code",
      "execution_count": 22,
      "id": "e6bc9608-11c3-4ce8-98b6-8db4cb1a1b8a",
      "metadata": {
        "colab": {
          "base_uri": "https://localhost:8080/",
          "height": 424
        },
        "id": "e6bc9608-11c3-4ce8-98b6-8db4cb1a1b8a",
        "outputId": "704cdb08-085f-4bc5-865b-1f4fc7fe5e45"
      },
      "outputs": [
        {
          "output_type": "execute_result",
          "data": {
            "text/plain": [
              "          LIT101    FIT502    LIT301  P203    LIT401   DPIT301  MV101  MV303  \\\n",
              "0       522,8467  1,279621  956,1651     2  942,0662  19,74838      2      1   \n",
              "1        522,886  1,297554  956,1651     2  942,0277  19,74838      2      1   \n",
              "2       522,8467  1,293967  956,4855     2  941,8739  19,69076      2      1   \n",
              "3       522,9645  1,281158   956,806     2   941,797  19,69076      2      1   \n",
              "4       523,4748  1,281158  957,0864     2    942,22  19,69076      2      1   \n",
              "...          ...       ...       ...   ...       ...       ...    ...    ...   \n",
              "449914  519,5495  1,288971  974,5498     2  956,8701  20,39823      2      1   \n",
              "449915  520,4131  1,272704  974,5898     2  957,1777  20,39823      2      1   \n",
              "449916  520,6878  1,269502  974,2695     2   957,293  20,33101      2      1   \n",
              "449917  520,7271  1,263866  974,2294     2  957,6775  20,29579      2      1   \n",
              "449918  521,1196  1,272704  974,4296     2  957,7544  20,28619      2      1   \n",
              "\n",
              "        MV201    FIT401  ...  MV304 P501  P302    AIT504    AIT402  P102  \\\n",
              "0           2  1,713517  ...      1    2     2  12,03538  156,0882     1   \n",
              "1           2  1,715952  ...      1    2     2  12,03538  156,0882     1   \n",
              "2           2  1,715952  ...      1    2     2  12,03538  156,0882     1   \n",
              "3           2   1,71467  ...      1    2     2  12,03538  156,0882     1   \n",
              "4           2   1,71467  ...      1    2     2  12,03538  156,0882     1   \n",
              "...       ...       ...  ...    ...  ...   ...       ...       ...   ...   \n",
              "449914      2  1,705315  ...      1    2     2   14,8039  145,6037     1   \n",
              "449915      2  1,705315  ...      1    2     2   14,8039  145,6037     1   \n",
              "449916      2  1,706212  ...      1    2     2   14,8039  145,5524     1   \n",
              "449917      2  1,706212  ...      1    2     2   14,8039  145,5524     1   \n",
              "449918      2  1,705315  ...      1    2     2   14,8039  145,5524     1   \n",
              "\n",
              "        P201  P205 MV302 Normal/Attack  \n",
              "0          1     2     2        Normal  \n",
              "1          1     2     2        Normal  \n",
              "2          1     2     2        Normal  \n",
              "3          1     2     2        Normal  \n",
              "4          1     2     2        Normal  \n",
              "...      ...   ...   ...           ...  \n",
              "449914     2     2     2        Normal  \n",
              "449915     2     2     2        Normal  \n",
              "449916     2     2     2        Normal  \n",
              "449917     2     2     2        Normal  \n",
              "449918     2     2     2        Normal  \n",
              "\n",
              "[449919 rows x 25 columns]"
            ],
            "text/html": [
              "\n",
              "  <div id=\"df-4234e658-d6e0-4baa-963a-846b1fa8f783\">\n",
              "    <div class=\"colab-df-container\">\n",
              "      <div>\n",
              "<style scoped>\n",
              "    .dataframe tbody tr th:only-of-type {\n",
              "        vertical-align: middle;\n",
              "    }\n",
              "\n",
              "    .dataframe tbody tr th {\n",
              "        vertical-align: top;\n",
              "    }\n",
              "\n",
              "    .dataframe thead th {\n",
              "        text-align: right;\n",
              "    }\n",
              "</style>\n",
              "<table border=\"1\" class=\"dataframe\">\n",
              "  <thead>\n",
              "    <tr style=\"text-align: right;\">\n",
              "      <th></th>\n",
              "      <th>LIT101</th>\n",
              "      <th>FIT502</th>\n",
              "      <th>LIT301</th>\n",
              "      <th>P203</th>\n",
              "      <th>LIT401</th>\n",
              "      <th>DPIT301</th>\n",
              "      <th>MV101</th>\n",
              "      <th>MV303</th>\n",
              "      <th>MV201</th>\n",
              "      <th>FIT401</th>\n",
              "      <th>...</th>\n",
              "      <th>MV304</th>\n",
              "      <th>P501</th>\n",
              "      <th>P302</th>\n",
              "      <th>AIT504</th>\n",
              "      <th>AIT402</th>\n",
              "      <th>P102</th>\n",
              "      <th>P201</th>\n",
              "      <th>P205</th>\n",
              "      <th>MV302</th>\n",
              "      <th>Normal/Attack</th>\n",
              "    </tr>\n",
              "  </thead>\n",
              "  <tbody>\n",
              "    <tr>\n",
              "      <th>0</th>\n",
              "      <td>522,8467</td>\n",
              "      <td>1,279621</td>\n",
              "      <td>956,1651</td>\n",
              "      <td>2</td>\n",
              "      <td>942,0662</td>\n",
              "      <td>19,74838</td>\n",
              "      <td>2</td>\n",
              "      <td>1</td>\n",
              "      <td>2</td>\n",
              "      <td>1,713517</td>\n",
              "      <td>...</td>\n",
              "      <td>1</td>\n",
              "      <td>2</td>\n",
              "      <td>2</td>\n",
              "      <td>12,03538</td>\n",
              "      <td>156,0882</td>\n",
              "      <td>1</td>\n",
              "      <td>1</td>\n",
              "      <td>2</td>\n",
              "      <td>2</td>\n",
              "      <td>Normal</td>\n",
              "    </tr>\n",
              "    <tr>\n",
              "      <th>1</th>\n",
              "      <td>522,886</td>\n",
              "      <td>1,297554</td>\n",
              "      <td>956,1651</td>\n",
              "      <td>2</td>\n",
              "      <td>942,0277</td>\n",
              "      <td>19,74838</td>\n",
              "      <td>2</td>\n",
              "      <td>1</td>\n",
              "      <td>2</td>\n",
              "      <td>1,715952</td>\n",
              "      <td>...</td>\n",
              "      <td>1</td>\n",
              "      <td>2</td>\n",
              "      <td>2</td>\n",
              "      <td>12,03538</td>\n",
              "      <td>156,0882</td>\n",
              "      <td>1</td>\n",
              "      <td>1</td>\n",
              "      <td>2</td>\n",
              "      <td>2</td>\n",
              "      <td>Normal</td>\n",
              "    </tr>\n",
              "    <tr>\n",
              "      <th>2</th>\n",
              "      <td>522,8467</td>\n",
              "      <td>1,293967</td>\n",
              "      <td>956,4855</td>\n",
              "      <td>2</td>\n",
              "      <td>941,8739</td>\n",
              "      <td>19,69076</td>\n",
              "      <td>2</td>\n",
              "      <td>1</td>\n",
              "      <td>2</td>\n",
              "      <td>1,715952</td>\n",
              "      <td>...</td>\n",
              "      <td>1</td>\n",
              "      <td>2</td>\n",
              "      <td>2</td>\n",
              "      <td>12,03538</td>\n",
              "      <td>156,0882</td>\n",
              "      <td>1</td>\n",
              "      <td>1</td>\n",
              "      <td>2</td>\n",
              "      <td>2</td>\n",
              "      <td>Normal</td>\n",
              "    </tr>\n",
              "    <tr>\n",
              "      <th>3</th>\n",
              "      <td>522,9645</td>\n",
              "      <td>1,281158</td>\n",
              "      <td>956,806</td>\n",
              "      <td>2</td>\n",
              "      <td>941,797</td>\n",
              "      <td>19,69076</td>\n",
              "      <td>2</td>\n",
              "      <td>1</td>\n",
              "      <td>2</td>\n",
              "      <td>1,71467</td>\n",
              "      <td>...</td>\n",
              "      <td>1</td>\n",
              "      <td>2</td>\n",
              "      <td>2</td>\n",
              "      <td>12,03538</td>\n",
              "      <td>156,0882</td>\n",
              "      <td>1</td>\n",
              "      <td>1</td>\n",
              "      <td>2</td>\n",
              "      <td>2</td>\n",
              "      <td>Normal</td>\n",
              "    </tr>\n",
              "    <tr>\n",
              "      <th>4</th>\n",
              "      <td>523,4748</td>\n",
              "      <td>1,281158</td>\n",
              "      <td>957,0864</td>\n",
              "      <td>2</td>\n",
              "      <td>942,22</td>\n",
              "      <td>19,69076</td>\n",
              "      <td>2</td>\n",
              "      <td>1</td>\n",
              "      <td>2</td>\n",
              "      <td>1,71467</td>\n",
              "      <td>...</td>\n",
              "      <td>1</td>\n",
              "      <td>2</td>\n",
              "      <td>2</td>\n",
              "      <td>12,03538</td>\n",
              "      <td>156,0882</td>\n",
              "      <td>1</td>\n",
              "      <td>1</td>\n",
              "      <td>2</td>\n",
              "      <td>2</td>\n",
              "      <td>Normal</td>\n",
              "    </tr>\n",
              "    <tr>\n",
              "      <th>...</th>\n",
              "      <td>...</td>\n",
              "      <td>...</td>\n",
              "      <td>...</td>\n",
              "      <td>...</td>\n",
              "      <td>...</td>\n",
              "      <td>...</td>\n",
              "      <td>...</td>\n",
              "      <td>...</td>\n",
              "      <td>...</td>\n",
              "      <td>...</td>\n",
              "      <td>...</td>\n",
              "      <td>...</td>\n",
              "      <td>...</td>\n",
              "      <td>...</td>\n",
              "      <td>...</td>\n",
              "      <td>...</td>\n",
              "      <td>...</td>\n",
              "      <td>...</td>\n",
              "      <td>...</td>\n",
              "      <td>...</td>\n",
              "      <td>...</td>\n",
              "    </tr>\n",
              "    <tr>\n",
              "      <th>449914</th>\n",
              "      <td>519,5495</td>\n",
              "      <td>1,288971</td>\n",
              "      <td>974,5498</td>\n",
              "      <td>2</td>\n",
              "      <td>956,8701</td>\n",
              "      <td>20,39823</td>\n",
              "      <td>2</td>\n",
              "      <td>1</td>\n",
              "      <td>2</td>\n",
              "      <td>1,705315</td>\n",
              "      <td>...</td>\n",
              "      <td>1</td>\n",
              "      <td>2</td>\n",
              "      <td>2</td>\n",
              "      <td>14,8039</td>\n",
              "      <td>145,6037</td>\n",
              "      <td>1</td>\n",
              "      <td>2</td>\n",
              "      <td>2</td>\n",
              "      <td>2</td>\n",
              "      <td>Normal</td>\n",
              "    </tr>\n",
              "    <tr>\n",
              "      <th>449915</th>\n",
              "      <td>520,4131</td>\n",
              "      <td>1,272704</td>\n",
              "      <td>974,5898</td>\n",
              "      <td>2</td>\n",
              "      <td>957,1777</td>\n",
              "      <td>20,39823</td>\n",
              "      <td>2</td>\n",
              "      <td>1</td>\n",
              "      <td>2</td>\n",
              "      <td>1,705315</td>\n",
              "      <td>...</td>\n",
              "      <td>1</td>\n",
              "      <td>2</td>\n",
              "      <td>2</td>\n",
              "      <td>14,8039</td>\n",
              "      <td>145,6037</td>\n",
              "      <td>1</td>\n",
              "      <td>2</td>\n",
              "      <td>2</td>\n",
              "      <td>2</td>\n",
              "      <td>Normal</td>\n",
              "    </tr>\n",
              "    <tr>\n",
              "      <th>449916</th>\n",
              "      <td>520,6878</td>\n",
              "      <td>1,269502</td>\n",
              "      <td>974,2695</td>\n",
              "      <td>2</td>\n",
              "      <td>957,293</td>\n",
              "      <td>20,33101</td>\n",
              "      <td>2</td>\n",
              "      <td>1</td>\n",
              "      <td>2</td>\n",
              "      <td>1,706212</td>\n",
              "      <td>...</td>\n",
              "      <td>1</td>\n",
              "      <td>2</td>\n",
              "      <td>2</td>\n",
              "      <td>14,8039</td>\n",
              "      <td>145,5524</td>\n",
              "      <td>1</td>\n",
              "      <td>2</td>\n",
              "      <td>2</td>\n",
              "      <td>2</td>\n",
              "      <td>Normal</td>\n",
              "    </tr>\n",
              "    <tr>\n",
              "      <th>449917</th>\n",
              "      <td>520,7271</td>\n",
              "      <td>1,263866</td>\n",
              "      <td>974,2294</td>\n",
              "      <td>2</td>\n",
              "      <td>957,6775</td>\n",
              "      <td>20,29579</td>\n",
              "      <td>2</td>\n",
              "      <td>1</td>\n",
              "      <td>2</td>\n",
              "      <td>1,706212</td>\n",
              "      <td>...</td>\n",
              "      <td>1</td>\n",
              "      <td>2</td>\n",
              "      <td>2</td>\n",
              "      <td>14,8039</td>\n",
              "      <td>145,5524</td>\n",
              "      <td>1</td>\n",
              "      <td>2</td>\n",
              "      <td>2</td>\n",
              "      <td>2</td>\n",
              "      <td>Normal</td>\n",
              "    </tr>\n",
              "    <tr>\n",
              "      <th>449918</th>\n",
              "      <td>521,1196</td>\n",
              "      <td>1,272704</td>\n",
              "      <td>974,4296</td>\n",
              "      <td>2</td>\n",
              "      <td>957,7544</td>\n",
              "      <td>20,28619</td>\n",
              "      <td>2</td>\n",
              "      <td>1</td>\n",
              "      <td>2</td>\n",
              "      <td>1,705315</td>\n",
              "      <td>...</td>\n",
              "      <td>1</td>\n",
              "      <td>2</td>\n",
              "      <td>2</td>\n",
              "      <td>14,8039</td>\n",
              "      <td>145,5524</td>\n",
              "      <td>1</td>\n",
              "      <td>2</td>\n",
              "      <td>2</td>\n",
              "      <td>2</td>\n",
              "      <td>Normal</td>\n",
              "    </tr>\n",
              "  </tbody>\n",
              "</table>\n",
              "<p>449919 rows × 25 columns</p>\n",
              "</div>\n",
              "      <button class=\"colab-df-convert\" onclick=\"convertToInteractive('df-4234e658-d6e0-4baa-963a-846b1fa8f783')\"\n",
              "              title=\"Convert this dataframe to an interactive table.\"\n",
              "              style=\"display:none;\">\n",
              "        \n",
              "  <svg xmlns=\"http://www.w3.org/2000/svg\" height=\"24px\"viewBox=\"0 0 24 24\"\n",
              "       width=\"24px\">\n",
              "    <path d=\"M0 0h24v24H0V0z\" fill=\"none\"/>\n",
              "    <path d=\"M18.56 5.44l.94 2.06.94-2.06 2.06-.94-2.06-.94-.94-2.06-.94 2.06-2.06.94zm-11 1L8.5 8.5l.94-2.06 2.06-.94-2.06-.94L8.5 2.5l-.94 2.06-2.06.94zm10 10l.94 2.06.94-2.06 2.06-.94-2.06-.94-.94-2.06-.94 2.06-2.06.94z\"/><path d=\"M17.41 7.96l-1.37-1.37c-.4-.4-.92-.59-1.43-.59-.52 0-1.04.2-1.43.59L10.3 9.45l-7.72 7.72c-.78.78-.78 2.05 0 2.83L4 21.41c.39.39.9.59 1.41.59.51 0 1.02-.2 1.41-.59l7.78-7.78 2.81-2.81c.8-.78.8-2.07 0-2.86zM5.41 20L4 18.59l7.72-7.72 1.47 1.35L5.41 20z\"/>\n",
              "  </svg>\n",
              "      </button>\n",
              "      \n",
              "  <style>\n",
              "    .colab-df-container {\n",
              "      display:flex;\n",
              "      flex-wrap:wrap;\n",
              "      gap: 12px;\n",
              "    }\n",
              "\n",
              "    .colab-df-convert {\n",
              "      background-color: #E8F0FE;\n",
              "      border: none;\n",
              "      border-radius: 50%;\n",
              "      cursor: pointer;\n",
              "      display: none;\n",
              "      fill: #1967D2;\n",
              "      height: 32px;\n",
              "      padding: 0 0 0 0;\n",
              "      width: 32px;\n",
              "    }\n",
              "\n",
              "    .colab-df-convert:hover {\n",
              "      background-color: #E2EBFA;\n",
              "      box-shadow: 0px 1px 2px rgba(60, 64, 67, 0.3), 0px 1px 3px 1px rgba(60, 64, 67, 0.15);\n",
              "      fill: #174EA6;\n",
              "    }\n",
              "\n",
              "    [theme=dark] .colab-df-convert {\n",
              "      background-color: #3B4455;\n",
              "      fill: #D2E3FC;\n",
              "    }\n",
              "\n",
              "    [theme=dark] .colab-df-convert:hover {\n",
              "      background-color: #434B5C;\n",
              "      box-shadow: 0px 1px 3px 1px rgba(0, 0, 0, 0.15);\n",
              "      filter: drop-shadow(0px 1px 2px rgba(0, 0, 0, 0.3));\n",
              "      fill: #FFFFFF;\n",
              "    }\n",
              "  </style>\n",
              "\n",
              "      <script>\n",
              "        const buttonEl =\n",
              "          document.querySelector('#df-4234e658-d6e0-4baa-963a-846b1fa8f783 button.colab-df-convert');\n",
              "        buttonEl.style.display =\n",
              "          google.colab.kernel.accessAllowed ? 'block' : 'none';\n",
              "\n",
              "        async function convertToInteractive(key) {\n",
              "          const element = document.querySelector('#df-4234e658-d6e0-4baa-963a-846b1fa8f783');\n",
              "          const dataTable =\n",
              "            await google.colab.kernel.invokeFunction('convertToInteractive',\n",
              "                                                     [key], {});\n",
              "          if (!dataTable) return;\n",
              "\n",
              "          const docLinkHtml = 'Like what you see? Visit the ' +\n",
              "            '<a target=\"_blank\" href=https://colab.research.google.com/notebooks/data_table.ipynb>data table notebook</a>'\n",
              "            + ' to learn more about interactive tables.';\n",
              "          element.innerHTML = '';\n",
              "          dataTable['output_type'] = 'display_data';\n",
              "          await google.colab.output.renderOutput(dataTable, element);\n",
              "          const docLink = document.createElement('div');\n",
              "          docLink.innerHTML = docLinkHtml;\n",
              "          element.appendChild(docLink);\n",
              "        }\n",
              "      </script>\n",
              "    </div>\n",
              "  </div>\n",
              "  "
            ]
          },
          "metadata": {},
          "execution_count": 22
        }
      ],
      "source": [
        "df_new"
      ]
    },
    {
      "cell_type": "code",
      "execution_count": 23,
      "id": "7663c416-d013-4b4e-bfd7-c06690c9e663",
      "metadata": {
        "id": "7663c416-d013-4b4e-bfd7-c06690c9e663"
      },
      "outputs": [],
      "source": [
        "num_cols = []\n",
        "\n",
        "for columns in df_new.columns:\n",
        "    if len(df_new[columns].unique())> 3:\n",
        "        num_cols += [columns]"
      ]
    },
    {
      "cell_type": "code",
      "execution_count": 24,
      "id": "7409286a-1359-4f0e-aa63-a21115414711",
      "metadata": {
        "id": "7409286a-1359-4f0e-aa63-a21115414711"
      },
      "outputs": [],
      "source": [
        "for num_col in num_cols:\n",
        "    df_new[num_col] = df_new[num_col].str.replace(',', '.').astype('float')"
      ]
    },
    {
      "cell_type": "code",
      "execution_count": 25,
      "id": "c456ba03-b231-4a61-a0bf-85ff81c3e3d2",
      "metadata": {
        "tags": [],
        "colab": {
          "base_uri": "https://localhost:8080/"
        },
        "id": "c456ba03-b231-4a61-a0bf-85ff81c3e3d2",
        "outputId": "46d00a39-b8d2-448d-fa72-eb56e98bd1d9"
      },
      "outputs": [
        {
          "output_type": "execute_result",
          "data": {
            "text/plain": [
              "LIT101               0\n",
              "FIT502               0\n",
              "LIT301               0\n",
              "P203                 0\n",
              "LIT401               0\n",
              "DPIT301              0\n",
              "MV101                0\n",
              "MV303                0\n",
              "MV201                0\n",
              "FIT401           16384\n",
              "UV401                0\n",
              "AIT502               0\n",
              "P602                 0\n",
              "AIT202               0\n",
              "P101                 0\n",
              "MV304                0\n",
              "P501                 0\n",
              "P302                 0\n",
              "AIT504               0\n",
              "AIT402               0\n",
              "P102                 0\n",
              "P201                 0\n",
              "P205                 0\n",
              "MV302                0\n",
              "Normal/Attack        0\n",
              "dtype: int64"
            ]
          },
          "metadata": {},
          "execution_count": 25
        }
      ],
      "source": [
        "df_new.isna().sum()"
      ]
    },
    {
      "cell_type": "code",
      "execution_count": 26,
      "id": "f314a689-52f4-460a-a59c-f01600a4297f",
      "metadata": {
        "colab": {
          "base_uri": "https://localhost:8080/",
          "height": 285
        },
        "id": "f314a689-52f4-460a-a59c-f01600a4297f",
        "outputId": "daeb76c6-7ae0-4653-bf18-0407e82d82a7"
      },
      "outputs": [
        {
          "output_type": "execute_result",
          "data": {
            "text/plain": [
              "<matplotlib.axes._subplots.AxesSubplot at 0x7fd3b243a810>"
            ]
          },
          "metadata": {},
          "execution_count": 26
        },
        {
          "output_type": "display_data",
          "data": {
            "text/plain": [
              "<Figure size 432x288 with 1 Axes>"
            ],
            "image/png": "[encoded data removed]"
          },
          "metadata": {
            "needs_background": "light"
          }
        }
      ],
      "source": [
        "df_new.FIT401.hist()"
      ]
    },
    {
      "cell_type": "code",
      "execution_count": 27,
      "id": "18e30215-0645-40fa-b200-59546c92f5ae",
      "metadata": {
        "colab": {
          "base_uri": "https://localhost:8080/"
        },
        "id": "18e30215-0645-40fa-b200-59546c92f5ae",
        "outputId": "0bffda8e-d324-48ba-d0bf-9d23436bfe3f"
      },
      "outputs": [
        {
          "output_type": "stream",
          "name": "stdout",
          "text": [
            "16384\n",
            "16384\n"
          ]
        }
      ],
      "source": [
        "#Как мы видим, в датасете пропущенные значения присутствуют только в колонке FIT401\n",
        "#Более того, все строки, которые в колонке FIT401 содержат пропущенное значение, имеют метку Attack\n",
        "\n",
        "print(len(df_new[df_new.FIT401.isna()]))\n",
        "print(len(df_new[df_new.FIT401.isna()]['Normal/Attack'] == 'Attack'))"
      ]
    },
    {
      "cell_type": "code",
      "execution_count": 28,
      "id": "50045bfc-60cf-4ea5-a5aa-59cb0ecd003b",
      "metadata": {
        "colab": {
          "base_uri": "https://localhost:8080/",
          "height": 81
        },
        "id": "50045bfc-60cf-4ea5-a5aa-59cb0ecd003b",
        "outputId": "f7c9db54-37f9-4217-d3b1-c2a118ebdd45"
      },
      "outputs": [
        {
          "output_type": "execute_result",
          "data": {
            "text/plain": [
              "Normal/Attack  Attack  Normal\n",
              "FIT401          16374     104"
            ],
            "text/html": [
              "\n",
              "  <div id=\"df-e94c8139-618f-4595-970b-e8783f9a055d\">\n",
              "    <div class=\"colab-df-container\">\n",
              "      <div>\n",
              "<style scoped>\n",
              "    .dataframe tbody tr th:only-of-type {\n",
              "        vertical-align: middle;\n",
              "    }\n",
              "\n",
              "    .dataframe tbody tr th {\n",
              "        vertical-align: top;\n",
              "    }\n",
              "\n",
              "    .dataframe thead th {\n",
              "        text-align: right;\n",
              "    }\n",
              "</style>\n",
              "<table border=\"1\" class=\"dataframe\">\n",
              "  <thead>\n",
              "    <tr style=\"text-align: right;\">\n",
              "      <th>Normal/Attack</th>\n",
              "      <th>Attack</th>\n",
              "      <th>Normal</th>\n",
              "    </tr>\n",
              "  </thead>\n",
              "  <tbody>\n",
              "    <tr>\n",
              "      <th>FIT401</th>\n",
              "      <td>16374</td>\n",
              "      <td>104</td>\n",
              "    </tr>\n",
              "  </tbody>\n",
              "</table>\n",
              "</div>\n",
              "      <button class=\"colab-df-convert\" onclick=\"convertToInteractive('df-e94c8139-618f-4595-970b-e8783f9a055d')\"\n",
              "              title=\"Convert this dataframe to an interactive table.\"\n",
              "              style=\"display:none;\">\n",
              "        \n",
              "  <svg xmlns=\"http://www.w3.org/2000/svg\" height=\"24px\"viewBox=\"0 0 24 24\"\n",
              "       width=\"24px\">\n",
              "    <path d=\"M0 0h24v24H0V0z\" fill=\"none\"/>\n",
              "    <path d=\"M18.56 5.44l.94 2.06.94-2.06 2.06-.94-2.06-.94-.94-2.06-.94 2.06-2.06.94zm-11 1L8.5 8.5l.94-2.06 2.06-.94-2.06-.94L8.5 2.5l-.94 2.06-2.06.94zm10 10l.94 2.06.94-2.06 2.06-.94-2.06-.94-.94-2.06-.94 2.06-2.06.94z\"/><path d=\"M17.41 7.96l-1.37-1.37c-.4-.4-.92-.59-1.43-.59-.52 0-1.04.2-1.43.59L10.3 9.45l-7.72 7.72c-.78.78-.78 2.05 0 2.83L4 21.41c.39.39.9.59 1.41.59.51 0 1.02-.2 1.41-.59l7.78-7.78 2.81-2.81c.8-.78.8-2.07 0-2.86zM5.41 20L4 18.59l7.72-7.72 1.47 1.35L5.41 20z\"/>\n",
              "  </svg>\n",
              "      </button>\n",
              "      \n",
              "  <style>\n",
              "    .colab-df-container {\n",
              "      display:flex;\n",
              "      flex-wrap:wrap;\n",
              "      gap: 12px;\n",
              "    }\n",
              "\n",
              "    .colab-df-convert {\n",
              "      background-color: #E8F0FE;\n",
              "      border: none;\n",
              "      border-radius: 50%;\n",
              "      cursor: pointer;\n",
              "      display: none;\n",
              "      fill: #1967D2;\n",
              "      height: 32px;\n",
              "      padding: 0 0 0 0;\n",
              "      width: 32px;\n",
              "    }\n",
              "\n",
              "    .colab-df-convert:hover {\n",
              "      background-color: #E2EBFA;\n",
              "      box-shadow: 0px 1px 2px rgba(60, 64, 67, 0.3), 0px 1px 3px 1px rgba(60, 64, 67, 0.15);\n",
              "      fill: #174EA6;\n",
              "    }\n",
              "\n",
              "    [theme=dark] .colab-df-convert {\n",
              "      background-color: #3B4455;\n",
              "      fill: #D2E3FC;\n",
              "    }\n",
              "\n",
              "    [theme=dark] .colab-df-convert:hover {\n",
              "      background-color: #434B5C;\n",
              "      box-shadow: 0px 1px 3px 1px rgba(0, 0, 0, 0.15);\n",
              "      filter: drop-shadow(0px 1px 2px rgba(0, 0, 0, 0.3));\n",
              "      fill: #FFFFFF;\n",
              "    }\n",
              "  </style>\n",
              "\n",
              "      <script>\n",
              "        const buttonEl =\n",
              "          document.querySelector('#df-e94c8139-618f-4595-970b-e8783f9a055d button.colab-df-convert');\n",
              "        buttonEl.style.display =\n",
              "          google.colab.kernel.accessAllowed ? 'block' : 'none';\n",
              "\n",
              "        async function convertToInteractive(key) {\n",
              "          const element = document.querySelector('#df-e94c8139-618f-4595-970b-e8783f9a055d');\n",
              "          const dataTable =\n",
              "            await google.colab.kernel.invokeFunction('convertToInteractive',\n",
              "                                                     [key], {});\n",
              "          if (!dataTable) return;\n",
              "\n",
              "          const docLinkHtml = 'Like what you see? Visit the ' +\n",
              "            '<a target=\"_blank\" href=https://colab.research.google.com/notebooks/data_table.ipynb>data table notebook</a>'\n",
              "            + ' to learn more about interactive tables.';\n",
              "          element.innerHTML = '';\n",
              "          dataTable['output_type'] = 'display_data';\n",
              "          await google.colab.output.renderOutput(dataTable, element);\n",
              "          const docLink = document.createElement('div');\n",
              "          docLink.innerHTML = docLinkHtml;\n",
              "          element.appendChild(docLink);\n",
              "        }\n",
              "      </script>\n",
              "    </div>\n",
              "  </div>\n",
              "  "
            ]
          },
          "metadata": {},
          "execution_count": 28
        }
      ],
      "source": [
        "#Построив сводную таблицу, мы видим, что в случае когда FIT401 = 0, в подавляющм числе случаев это признак атаки\n",
        "\n",
        "pd.pivot_table(df_new[df_new.FIT401 == 0], values='FIT401',\n",
        "                    columns=['Normal/Attack'], aggfunc='count')"
      ]
    },
    {
      "cell_type": "code",
      "execution_count": 29,
      "id": "8586d66d-a0e7-4bcc-a66d-3acd762b0078",
      "metadata": {
        "colab": {
          "base_uri": "https://localhost:8080/",
          "height": 81
        },
        "id": "8586d66d-a0e7-4bcc-a66d-3acd762b0078",
        "outputId": "6ee25c44-ec38-4c48-a11b-0ed76bd26a23"
      },
      "outputs": [
        {
          "output_type": "execute_result",
          "data": {
            "text/plain": [
              "Normal/Attack  Attack  Normal\n",
              "FIT401          21863  395194"
            ],
            "text/html": [
              "\n",
              "  <div id=\"df-c2d36f8e-f54e-4c0b-851b-188897296298\">\n",
              "    <div class=\"colab-df-container\">\n",
              "      <div>\n",
              "<style scoped>\n",
              "    .dataframe tbody tr th:only-of-type {\n",
              "        vertical-align: middle;\n",
              "    }\n",
              "\n",
              "    .dataframe tbody tr th {\n",
              "        vertical-align: top;\n",
              "    }\n",
              "\n",
              "    .dataframe thead th {\n",
              "        text-align: right;\n",
              "    }\n",
              "</style>\n",
              "<table border=\"1\" class=\"dataframe\">\n",
              "  <thead>\n",
              "    <tr style=\"text-align: right;\">\n",
              "      <th>Normal/Attack</th>\n",
              "      <th>Attack</th>\n",
              "      <th>Normal</th>\n",
              "    </tr>\n",
              "  </thead>\n",
              "  <tbody>\n",
              "    <tr>\n",
              "      <th>FIT401</th>\n",
              "      <td>21863</td>\n",
              "      <td>395194</td>\n",
              "    </tr>\n",
              "  </tbody>\n",
              "</table>\n",
              "</div>\n",
              "      <button class=\"colab-df-convert\" onclick=\"convertToInteractive('df-c2d36f8e-f54e-4c0b-851b-188897296298')\"\n",
              "              title=\"Convert this dataframe to an interactive table.\"\n",
              "              style=\"display:none;\">\n",
              "        \n",
              "  <svg xmlns=\"http://www.w3.org/2000/svg\" height=\"24px\"viewBox=\"0 0 24 24\"\n",
              "       width=\"24px\">\n",
              "    <path d=\"M0 0h24v24H0V0z\" fill=\"none\"/>\n",
              "    <path d=\"M18.56 5.44l.94 2.06.94-2.06 2.06-.94-2.06-.94-.94-2.06-.94 2.06-2.06.94zm-11 1L8.5 8.5l.94-2.06 2.06-.94-2.06-.94L8.5 2.5l-.94 2.06-2.06.94zm10 10l.94 2.06.94-2.06 2.06-.94-2.06-.94-.94-2.06-.94 2.06-2.06.94z\"/><path d=\"M17.41 7.96l-1.37-1.37c-.4-.4-.92-.59-1.43-.59-.52 0-1.04.2-1.43.59L10.3 9.45l-7.72 7.72c-.78.78-.78 2.05 0 2.83L4 21.41c.39.39.9.59 1.41.59.51 0 1.02-.2 1.41-.59l7.78-7.78 2.81-2.81c.8-.78.8-2.07 0-2.86zM5.41 20L4 18.59l7.72-7.72 1.47 1.35L5.41 20z\"/>\n",
              "  </svg>\n",
              "      </button>\n",
              "      \n",
              "  <style>\n",
              "    .colab-df-container {\n",
              "      display:flex;\n",
              "      flex-wrap:wrap;\n",
              "      gap: 12px;\n",
              "    }\n",
              "\n",
              "    .colab-df-convert {\n",
              "      background-color: #E8F0FE;\n",
              "      border: none;\n",
              "      border-radius: 50%;\n",
              "      cursor: pointer;\n",
              "      display: none;\n",
              "      fill: #1967D2;\n",
              "      height: 32px;\n",
              "      padding: 0 0 0 0;\n",
              "      width: 32px;\n",
              "    }\n",
              "\n",
              "    .colab-df-convert:hover {\n",
              "      background-color: #E2EBFA;\n",
              "      box-shadow: 0px 1px 2px rgba(60, 64, 67, 0.3), 0px 1px 3px 1px rgba(60, 64, 67, 0.15);\n",
              "      fill: #174EA6;\n",
              "    }\n",
              "\n",
              "    [theme=dark] .colab-df-convert {\n",
              "      background-color: #3B4455;\n",
              "      fill: #D2E3FC;\n",
              "    }\n",
              "\n",
              "    [theme=dark] .colab-df-convert:hover {\n",
              "      background-color: #434B5C;\n",
              "      box-shadow: 0px 1px 3px 1px rgba(0, 0, 0, 0.15);\n",
              "      filter: drop-shadow(0px 1px 2px rgba(0, 0, 0, 0.3));\n",
              "      fill: #FFFFFF;\n",
              "    }\n",
              "  </style>\n",
              "\n",
              "      <script>\n",
              "        const buttonEl =\n",
              "          document.querySelector('#df-c2d36f8e-f54e-4c0b-851b-188897296298 button.colab-df-convert');\n",
              "        buttonEl.style.display =\n",
              "          google.colab.kernel.accessAllowed ? 'block' : 'none';\n",
              "\n",
              "        async function convertToInteractive(key) {\n",
              "          const element = document.querySelector('#df-c2d36f8e-f54e-4c0b-851b-188897296298');\n",
              "          const dataTable =\n",
              "            await google.colab.kernel.invokeFunction('convertToInteractive',\n",
              "                                                     [key], {});\n",
              "          if (!dataTable) return;\n",
              "\n",
              "          const docLinkHtml = 'Like what you see? Visit the ' +\n",
              "            '<a target=\"_blank\" href=https://colab.research.google.com/notebooks/data_table.ipynb>data table notebook</a>'\n",
              "            + ' to learn more about interactive tables.';\n",
              "          element.innerHTML = '';\n",
              "          dataTable['output_type'] = 'display_data';\n",
              "          await google.colab.output.renderOutput(dataTable, element);\n",
              "          const docLink = document.createElement('div');\n",
              "          docLink.innerHTML = docLinkHtml;\n",
              "          element.appendChild(docLink);\n",
              "        }\n",
              "      </script>\n",
              "    </div>\n",
              "  </div>\n",
              "  "
            ]
          },
          "metadata": {},
          "execution_count": 29
        }
      ],
      "source": [
        "#А в случаях, когда FIT401 больше 0, в большинстве своем наблюдения имеют метку Normal\n",
        "\n",
        "pd.pivot_table(df_new[df_new.FIT401 > 0], values='FIT401',\n",
        "                    columns=['Normal/Attack'], aggfunc='count')"
      ]
    },
    {
      "cell_type": "code",
      "execution_count": 30,
      "id": "d6418a4e-0cbb-442a-89b4-3a4789d4999d",
      "metadata": {
        "id": "d6418a4e-0cbb-442a-89b4-3a4789d4999d"
      },
      "outputs": [],
      "source": [
        "#Исходя из вышесказанного, попробем заменить все пропущенные значения FIT401 на 0\n",
        "\n",
        "df_new['FIT401'] = df_new['FIT401'].fillna(0)"
      ]
    },
    {
      "cell_type": "code",
      "execution_count": 31,
      "id": "0590878e-5dad-45e5-97db-9a5591cdcb2f",
      "metadata": {
        "colab": {
          "base_uri": "https://localhost:8080/"
        },
        "id": "0590878e-5dad-45e5-97db-9a5591cdcb2f",
        "outputId": "f2688a62-f92f-4fc7-e126-7198789504a4"
      },
      "outputs": [
        {
          "output_type": "stream",
          "name": "stdout",
          "text": [
            "54621\n",
            "395298\n"
          ]
        }
      ],
      "source": [
        "#посчитаем сколько строк с меткой Normal и Attack\n",
        "\n",
        "print(len(df_new[df_new['Normal/Attack'] == 'Attack']))\n",
        "print(len(df_new[df_new['Normal/Attack'] == 'Normal']))"
      ]
    },
    {
      "cell_type": "code",
      "execution_count": 32,
      "id": "e3539d4f-92ee-45f4-873d-ef4d82c5690b",
      "metadata": {
        "id": "e3539d4f-92ee-45f4-873d-ef4d82c5690b"
      },
      "outputs": [],
      "source": [
        "#Заменим в нашей целевой переменной метки Normal = 0, Attack = 1\n",
        "\n",
        "df_new['Normal/Attack'] = df_new['Normal/Attack'].replace('Normal', 0)\n",
        "df_new['Normal/Attack'] = df_new['Normal/Attack'].replace('Attack', 1)"
      ]
    },
    {
      "cell_type": "code",
      "execution_count": 33,
      "id": "e54e4b05-1c6e-4bda-9d5d-ed213148493e",
      "metadata": {
        "tags": [],
        "id": "e54e4b05-1c6e-4bda-9d5d-ed213148493e"
      },
      "outputs": [],
      "source": [
        "X = df_new.drop('Normal/Attack', axis=1)\n",
        "y = df_new['Normal/Attack']\n",
        "\n",
        "X_train, X_test, y_train, y_test = train_test_split(X, y, test_size=0.1)\n",
        "\n",
        "scaler  = MinMaxScaler()\n",
        "scaler.fit_transform(X_train)\n",
        "\n",
        "X_train_scaled = scaler.transform(X_train) \n",
        "X_test_scaled  = scaler.transform(X_test)\n",
        "\n",
        "X_train.iloc[:, :] = X_train_scaled\n",
        "X_test.iloc[:, :] = X_test_scaled"
      ]
    },
    {
      "cell_type": "code",
      "execution_count": 34,
      "id": "77b55cb1-a055-4beb-9528-6f13b43dd9c6",
      "metadata": {
        "colab": {
          "base_uri": "https://localhost:8080/"
        },
        "id": "77b55cb1-a055-4beb-9528-6f13b43dd9c6",
        "outputId": "ff6de719-ef00-4557-8cb0-4200b1ab5e45"
      },
      "outputs": [
        {
          "output_type": "execute_result",
          "data": {
            "text/plain": [
              "LogisticRegression(C=1.66, max_iter=100000, penalty='l1', solver='saga')"
            ]
          },
          "metadata": {},
          "execution_count": 34
        }
      ],
      "source": [
        "#@title Логистическая Регрессия{ run: \"auto\" }\n",
        "#@markdown ### Тип Регуляризации \n",
        "penalty= 'l1' #@param [ \"l2\" , \"l1\", \"none\"]{type:\"string\"}\n",
        "#@markdown ### Константа Регуларизации\n",
        "regularization = 1.66 #@param {type:\"slider\", min:0.01, max:3, step:0.05}\n",
        "\n",
        "\n",
        "\n",
        "LogReg = LogisticRegression(fit_intercept=True,\n",
        "                            penalty=penalty,solver='saga',\n",
        "                            C=regularization,\n",
        "                            max_iter=100000)\n",
        "\n",
        "LogReg.fit(X_train, y_train)"
      ]
    },
    {
      "cell_type": "code",
      "execution_count": 36,
      "id": "bdd8b046-2de7-4bba-986c-05c018718e27",
      "metadata": {
        "colab": {
          "base_uri": "https://localhost:8080/"
        },
        "id": "bdd8b046-2de7-4bba-986c-05c018718e27",
        "outputId": "ec411785-d9b0-4328-d56f-622af82db0b8"
      },
      "outputs": [
        {
          "output_type": "stream",
          "name": "stdout",
          "text": [
            "Итоговые метрики\n",
            "ACC: 0.9641\n",
            "F1 : 0.8312\n"
          ]
        }
      ],
      "source": [
        "y_predict=LogReg.predict(X_test)\n",
        "\n",
        "print('Итоговые метрики')\n",
        "print('ACC: %.4f' % acc(y_predict,y_test))\n",
        "print('F1 : %.4f' %  f1(y_predict,y_test,average='binary'))"
      ]
    },
    {
      "cell_type": "code",
      "execution_count": null,
      "id": "df312762-931d-483b-a0ec-5e625f1c0a79",
      "metadata": {
        "id": "df312762-931d-483b-a0ec-5e625f1c0a79"
      },
      "outputs": [],
      "source": [
        ""
      ]
    },
    {
      "cell_type": "markdown",
      "source": [
        "*Графики основных метрик модели на основе логистической регресии*\n",
        "1.   График \"Площадь под кривой регрессии\" ROC\n",
        "\n"
      ],
      "metadata": {
        "id": "WfCXX2PPRgaF"
      },
      "id": "WfCXX2PPRgaF"
    },
    {
      "cell_type": "code",
      "source": [
        "fpr, tpr, thresholds = roc_curve(y_test, y_predict)"
      ],
      "metadata": {
        "id": "sDO5CixmRp1K"
      },
      "id": "sDO5CixmRp1K",
      "execution_count": 40,
      "outputs": []
    },
    {
      "cell_type": "code",
      "source": [
        "def plot_roc_curve(fpr, tpr, label=None):\n",
        "    plt.plot(fpr, tpr, linewidth=2, label=label)\n",
        "    plt.plot([0, 1], [0, 1], 'k--')\n",
        "    plt.axis([0, 1, 0, 1])\n",
        "    plt.xlabel('False Positive Rate', fontsize=16)\n",
        "    plt.ylabel('True Positive Rate', fontsize=16)\n",
        "\n",
        "plt.figure(figsize=(8, 6))\n",
        "plot_roc_curve(fpr, tpr)\n",
        "plt.show()"
      ],
      "metadata": {
        "colab": {
          "base_uri": "https://localhost:8080/",
          "height": 400
        },
        "id": "oZZnF0twUFRK",
        "outputId": "57ebec5b-ecfc-463c-c9fa-6b105af75a2d"
      },
      "id": "oZZnF0twUFRK",
      "execution_count": 42,
      "outputs": [
        {
          "output_type": "display_data",
          "data": {
            "text/plain": [
              "<Figure size 576x432 with 1 Axes>"
            ],
            "image/png": "[encoded data removed]"
          },
          "metadata": {}
        }
      ]
    }
  ],
  "metadata": {
    "kernelspec": {
      "display_name": "Python 3 (ipykernel)",
      "language": "python",
      "name": "python3"
    },
    "language_info": {
      "codemirror_mode": {
        "name": "ipython",
        "version": 3
      },
      "file_extension": ".py",
      "mimetype": "text/x-python",
      "name": "python",
      "nbconvert_exporter": "python",
      "pygments_lexer": "ipython3",
      "version": "3.9.7"
    },
    "colab": {
      "name": "Hackaton2.ipynb",
      "provenance": []
    }
  },
  "nbformat": 4,
  "nbformat_minor": 5
}